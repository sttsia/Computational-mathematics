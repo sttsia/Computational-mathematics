{
  "cells": [
    {
      "cell_type": "markdown",
      "metadata": {
        "id": "IEDkuzMVqm-J"
      },
      "source": [
        "# Вычислительная математика.\n",
        "## 3.1 Нелинейные уравнения и системы.\n",
        "\n",
        "Содержание семинара:\n",
        "\n",
        "- __Нелинейные уравнения одной переменной__\n",
        "   - Теоремы о локализации корней алгебраических уравнений\n",
        "   - Метод дихотомии (деления пополам)\n",
        "   - Метод Ньютона      \n",
        "   - Метод секущих\n",
        "   - Метод простой итерации (релаксации)\n",
        "   - Порядок сходимости метода простых итераций\n",
        "   - Как найти все корни?\n",
        "       - _Пример с методом Ньютона для комплекснозначной нелинейной функции_\n",
        "       - _Пример метода релаксации_\n",
        "       - _Пример с нахождением всех корней многочлена_\n",
        "- __Нелинейные системы уравнений__\n",
        "   - Сведение к поиску минимума\n",
        "   - Метод простой итерации\n",
        "   - Метод Зейделя\n",
        "   - Метод Ньютона\n",
        "       - _Пример с реализацией метода Ньютона_\n",
        "- __Домашнее задание__"
      ]
    },
    {
      "cell_type": "markdown",
      "metadata": {
        "id": "LVxbt9LYuBMb"
      },
      "source": [
        "## Нелинейные уравнения одной переменной\n",
        "Пусть имеем некоторую функцию одной переменной $f(x)$. Нас интересуют нули этой функции, т.е. задача решения уравнения\n",
        "\n",
        "$$\n",
        "f(x)=0\n",
        "$$\n",
        "\n",
        "Для простоты пока работаем с функцией одной переменной."
      ]
    },
    {
      "cell_type": "markdown",
      "metadata": {
        "id": "nnuCnumovvxo"
      },
      "source": [
        "### Теоремы о локализации корней алгебраических уравнений.\n",
        "\n",
        "**Следствие из основной теоремы алгебры.**\n",
        "\n",
        "**Теорема.**\n",
        "\n",
        "Если непрерывная функиия $f(x)$ принимает на концах отрезка значения разного знака, т.е. $f(a) f(b)<0$, то внутри отрезка имеется, по меньшей мере, один корень уравнения\n",
        "\n",
        "$f(x) = 0$.\n",
        "\n",
        "Для более конкретных рекомендаций требуется дополнительная информация об изучаемом классе функций $f(x)$.\n",
        "\n",
        "Рассмотрим более подробно алгебраические уравнения вида\n",
        "\n",
        "$$\n",
        "f(z)=a_{0} z^{n}+a_{1} z^{n-1}+\\cdots+a_{n-1} z+a_{n}=0, a_{0} \\neq 0\n",
        "$$\n",
        "\n",
        "c действительными коэффициентами $\\left\\{a_{i}\\right\\}_{i=0}^{n}, n>1$.\n",
        "\n",
        " Приведём без доказательства несколько утверждений, оказывающихся полезными для локализации действительных корней уравнения.\n",
        "\n",
        "Все корни действительного алгебраического уравнения расположены на комплексной плоскости в кольце\n",
        "\n",
        "$$\n",
        "\\frac{\\left|a_{n}\\right|}{\\left|a_{n}\\right|+B} \\leq|z| \\leq 1+\\frac{A}{\\left|a_{0}\\right|}, \\text { где } A=\\max _{1 \\leq i \\leq n}\\left\\{\\left|a_{i}\\right|\\right\\}, B=\\max _{0 \\leq i \\leq n-1}\\left\\{\\left|a_{i}\\right|\\right\\} \\text {. }\n",
        "$$\n",
        "\n",
        "$$\n",
        "\\\\\n",
        "$$\n",
        "\n",
        "**Теорема Декарта.**\n",
        "\n",
        "Число положительных действительных корней уравнения либо равно числу перемен знака в последовательности $\\left\\{\\mathbf{a}_{\\mathrm{i}}\\right\\}_{\\mathrm{i}=0}^{\\mathrm{n}}$ коэффичиентов, причём коэффициенты, равные нулю, не учитываются, либо меньше этого числа на чётное число.\n",
        "\n",
        "Пусть $c-$ действительное число и $f(c) \\neq 0$. Через выражение $S(c+0)$ обозначим число перемен знаков в последовательности функции и её производных $\\left\\{f_{x}^{(i)}(c)\\right\\}_{i=0}^{n}$ в точке $c$, где $f_{x}^{(i)}(c+0)=0$ присваивается знак в точке, сколь угодно близкой к $c$ справа, а $f_{x}^{(i)}(c-0)=0$ - слева.\n",
        "\n",
        "$$\n",
        "\\\\\n",
        "$$\n",
        "\n",
        "**Теорема Бюдана-Фурье.**\n",
        "\n",
        "Если $a$ и $b(a<b)$ не являются корнями алгебраического уравнения указанного выше вида, то число действительных корней этого уравнения с учётом их кратности на $[a ; b]$ равняется разности между числом перемен знаков в последовательностях $S(a+0)$ и $S(b-0)$ или меньше этого числа на чётное число\n",
        "\n",
        "$$\n",
        "\\Delta=S(a+0)-S(b-0)\n",
        "$$\n",
        "\n",
        "Составим последовательность $\\left(f_{i}\\right)_{i=0}^{n}, f_{0}=f(x), f_{1}=f_{x}^{\\prime}(x)$, $f_{2}=-\\operatorname{Re} s\\left\\{f_{0} / f_{1}\\right\\}, \\ldots, f_{n}=-\\operatorname{Re} s\\left\\{f_{n-2} / f_{n-1}\\right\\}$, где $\\operatorname{Re} s\\left\\{f_{p}(x) / f_{q}(x)\\right\\}-$ остаток от деления многочлена $f_{p}(x)$ на многочлен $f_{q}(x)$, и назовём её рядом Штурма.\n",
        "\n",
        "$$\n",
        "\\\\\n",
        "$$\n",
        "\n",
        "**Теорема Штурма.**\n",
        "\n",
        " Число действительных корней уравнения, если среди них нет кратных, равняется разности между числом перемены знаков в ряде Штурма при $x=a \\quad u \\quad x=b$.\n",
        "\n",
        "$$\n",
        "\\\\\n",
        "$$\n",
        "\n",
        "**Пример.**\n",
        "\n",
        "Локализовать действительные положительные корни многочлена\n",
        "\n",
        "$$\n",
        "f(x)=-32 x^{3}+20 x^{2}+11 x+3 .\n",
        "$$\n",
        "\n",
        "По следствию из основной теоремы алгебры, все действительные корни лежат на пересечении кольца в комплексной плоскости с внутренним радиусом $\\alpha$, внешним радиусом $\\beta$ и положительной частью действительной оси, т.е. в интервале $[\\alpha, \\beta]$, где\n",
        "\n",
        "$$\n",
        "\\alpha=\\frac{\\left|a_{3}\\right|}{\\left|a_{3}\\right|+B}=\\frac{3}{35}, \\beta=1+\\frac{|A|}{\\left|a_{0}\\right|}=\\frac{13}{8}\n",
        "$$\n",
        "\n",
        "т.к. $A=\\max \\{20,11,3\\}=20, \\quad B=\\max \\{32,20,11\\}=32, \\quad\\left|a_{0}\\right|=32, \\quad\\left|a_{3}\\right|=3$.\n",
        "\n",
        "Число корней можно определить одним из следующих способов:\n",
        "\n",
        "a) по теореме Декарта число перемен знаков в последовательности коэффициентов $\\{-32,20,11,3\\}$ многочлена $f(x)$ равно 1 , т.е. $f(x)$ имеет один положительный корень на отрезке $\\left[\\frac{3}{35}, \\frac{13}{8}\\right]$;\n",
        "\n",
        "\n",
        "б) по теореме Бюдана-Фурье последовательность функции и ее производных\n",
        "\n",
        "$$\n",
        "\\begin{gathered}\n",
        "f(x)=-32 x^{3}+20 x^{2}+11 x+3, f(\\beta) \\approx-7.375<0, f(\\alpha) \\approx 4.07>0, \\\\\n",
        "f^{\\prime}(x)=-96 x^{2}+40 x+11, f^{\\prime}(\\beta) \\approx-177.5<0, f^{\\prime}(\\alpha) \\approx 13.72>0, \\\\\n",
        "f^{\\prime \\prime}(x)=-192 x+40, f^{\\prime \\prime}(\\beta) \\approx-272<0, f^{\\prime \\prime}(\\alpha) \\approx 23.54>0, \\\\\n",
        "f^{\\prime \\prime \\prime}(x)=-192=f^{\\prime \\prime \\prime}(\\beta)=f^{\\prime \\prime \\prime}(\\alpha)<0, \\\\\n",
        "\\Delta=S(\\alpha+0)-S(\\beta-0)=1-0=1,\n",
        "\\end{gathered}\n",
        "$$\n",
        "\n",
        "т.е. $f(x)$ имеет один положительный корень на отрезке $\\left[\\frac{3}{35}, \\frac{13}{8}\\right]$;\n",
        "\n",
        "\n",
        "\n",
        "в) по теореме Штурма составим ряд Штурма:\n",
        "\n",
        "$$\n",
        "\\begin{aligned}\n",
        "& f_{0}(x)=f(x)=-32 x^{3}+20 x^{2}+11 x+3, \\\\\n",
        "& f_{1}(\\beta) \\approx-7.375<0, f_{1}(\\alpha) \\approx 4.07>0, \\\\\n",
        "& f_{1}(x)=f^{\\prime}(x)=-96 x^{2}+40 x+11, \\\\\n",
        "& f_{1}(\\beta) \\approx-177.5<0, f_{1}(\\alpha) \\approx 13.72>0, \\\\\n",
        "& f_{2}(x)=-\\operatorname{Re} s\\left\\{f_{0}(x) / f_{1}(x)\\right\\}=-\\frac{91}{9} x-\\frac{271}{72}, \\\\\n",
        "& f_{2}(\\beta) \\approx-20.19<0, f_{2}(\\alpha) \\approx-4.63<0, \\\\\n",
        "& f_{3}(x)=-\\operatorname{Re} s\\left\\{f_{1}(x) / f_{2}(x)\\right\\}=-\\frac{284751}{16562}=f_{3}(\\beta)=f_{3}(\\alpha)<0,\n",
        "\\end{aligned}\n",
        "$$\n",
        "\n",
        "т.е. $f(x)$ имеет один положительный корень на отрезке $\\left[\\frac{3}{35}, \\frac{13}{8}\\right]$.\n",
        "\n"
      ]
    },
    {
      "cell_type": "markdown",
      "metadata": {
        "id": "ahOxa7PhuBMb"
      },
      "source": [
        "### Метод дихотомии (деления пополам)\n",
        "\n",
        "Пусть функция $f$ - непрерывная.\n",
        "\n",
        "Пусть имеем две точки $x_{\\text{left}} < x_{\\text{right}}$ такие что функция на них имеет разный знак:\n",
        "\n",
        "$$\n",
        "f(x_{\\text{left}} )\\cdot f(x_{\\text{right}}) < 0\n",
        "$$\n",
        "\n",
        "Тогда ясно, что где-то в интервале $(x_{\\text{left}}, x_{\\text{right}})$ будет корень искомого уравнения (по теореме о промежуточных значениях непрерывной функции).\n",
        "\n",
        "Идея метода заключается в последовательном сужении отрезка до тех пор, пока не достигнем нужной точности корня. Алгоритм:\n",
        "\n",
        ">1. Фиксируем малый $\\varepsilon$\n",
        ">2. Пусть $x_0=\\frac{x_{\\text{left}}+x_{\\text{right}}}{2}$\n",
        ">    - Если $f(x_0) \\cdot f(x_{\\text{left}}) < 0$, то они имеют разный знак и принимаем $x_{\\text{right}} = x_0$\n",
        "> </br>\n",
        "> </br>\n",
        ">    - Иначе, если $f(x_0) \\cdot f(x_{\\text{left}}) > 0$, они имеют одинаковый знак и принимаем $x_{\\text{left}} = x_0$\n",
        "> </br>\n",
        "> </br>\n",
        ">3. Если $|x_{\\text{left}} - x_{\\text{right}}| < \\varepsilon$, то локализовали корень с точностью $\\varepsilon$ и останавливаемся. Иначе, обратно на 2 шаг.\n",
        "\n",
        "Метод крайне простой и эффективный. Однако, он не применим для поиска корней чётной кратности (в которой корень - локальный минимум или максимум). Также не обобщается на системы уравнений и на уравнению с комплекснозначной функцией.\n",
        "\n",
        "Несложно обобщить данный метод на поиск локального минимума функции одной переменной."
      ]
    },
    {
      "cell_type": "markdown",
      "metadata": {
        "id": "Ss8zPvF9uBMb"
      },
      "source": [
        "### Метод Ньютона\n",
        "\n",
        "Пусть теперь $f$ - дифференциируема.\n",
        "\n",
        "Пусть имеем некоторой приближение корня $x_n$. Смотрим на касательную к $f(x)$ в этой точке и ищем её пересечение с $Ox$. Это пересечение есть наше следующее приближение корня. Повторяем, пока не достигнем нужной точности.\n",
        "\n",
        "![original image](https://cdn.mathpix.com/snip/images/iWAGd-KIeLEF5wOas8r-bmUALbliU1MoFWskBzoXPds.original.fullsize.png)\n",
        "\n",
        "Формально,\n",
        "\n",
        ">$$\n",
        " x_{n+1}=x_n-\\frac{f\\left(x_n\\right)}{f'\\left(x_n\\right)}\n",
        "$$\n",
        "\n",
        "Этот метод работает быстрее метода дихотомии и с помощью него можно найти любые корни даже для комплекснозначных функций.\n",
        "\n",
        "Тем не менее, этот метод имеет существенный недостаток - нестабильная сходимость (особенно при численной аппроксимации производной). Например, на каком-то этапе производная может близко приблизиться к нулю, и мы улетим далеко-далеко от корня. Также возможны замкнутые циклы - ноль может не достигнуться.\n",
        "\n",
        "\n",
        "Проиллюстрируем метод Ньютона для вычисления корней комплекснозначной функции:\n",
        "\n",
        "$$\n",
        "f(z) = z^4 - 1\n",
        "$$\n",
        "\n",
        "На итоговой картинке одинаковым цветом обозначены \"области притяжения корней\" - стартуя алгоритм в одной из этих областей, мы будем приходить к одному и тому же корню. Из этого можно сделать вывод, что метод Ньютона нелокален."
      ]
    },
    {
      "cell_type": "code",
      "execution_count": null,
      "metadata": {
        "ExecuteTime": {
          "end_time": "2023-10-14T15:32:14.920555Z",
          "start_time": "2023-10-14T15:32:07.664480Z"
        },
        "id": "3QKFsroHuBMc",
        "outputId": "3f667f28-dd13-4a19-83a9-8ee8e620cf8f"
      },
      "outputs": [
        {
          "data": {
            "image/png": "[encoded data removed]",
            "text/plain": [
              "<Figure size 700x700 with 1 Axes>"
            ]
          },
          "metadata": {},
          "output_type": "display_data"
        },
        {
          "data": {
            "text/plain": [
              "[(9.075876832133421e-10+1.00000000209645j),\n",
              " (0.9999999997118054-8.529533586119149e-10j),\n",
              " (9.595113291316482e-17-1.0000000000000002j),\n",
              " (-1.0000000000001743-2.3209727148473305e-13j)]"
            ]
          },
          "execution_count": 1,
          "metadata": {},
          "output_type": "execute_result"
        }
      ],
      "source": [
        "from scipy import optimize # В этом модуле есть все рассказанные методы оптимизации (нахождения корней или минимумов)\n",
        "\n",
        "import numpy as np\n",
        "import matplotlib.pyplot as plt\n",
        "from matplotlib.colors import ListedColormap\n",
        "\n",
        "# A list of colors to distinguish the roots.\n",
        "colors = ['xkcd:eggshell', 'mediumseagreen', 'c', 'xkcd:sky blue']\n",
        "\n",
        "TOL = 1.e-8\n",
        "\n",
        "def newton(z0, f, fprime, MAX_IT=1000):\n",
        "    \"\"\"The Newton-Raphson method applied to f(z).\n",
        "\n",
        "    Returns the root found, starting with an initial guess, z0, or False\n",
        "    if no convergence to tolerance TOL was reached within MAX_IT iterations.\n",
        "\n",
        "    \"\"\"\n",
        "\n",
        "    z = z0\n",
        "    for i in range(MAX_IT):\n",
        "\n",
        "        # Вместо всей этой секции z = optimize.newton(f, z0, fprime)\n",
        "\n",
        "        dz = f(z)/fprime(z)\n",
        "        if abs(dz) < TOL:\n",
        "            return z\n",
        "        z -= dz\n",
        "    return False\n",
        "\n",
        "def plot_newton_fractal(f, fprime, n=200, domain=(-1, 1, -1, 1)):\n",
        "    \"\"\"Plot a Newton Fractal by finding the roots of f(z).\n",
        "\n",
        "    The domain used for the fractal image is the region of the complex plane\n",
        "    (xmin, xmax, ymin, ymax) where z = x + iy, discretized into n values along\n",
        "    each axis.\n",
        "\n",
        "    \"\"\"\n",
        "\n",
        "    roots = []\n",
        "    m = np.zeros((n, n))\n",
        "\n",
        "    def get_root_index(roots, r):\n",
        "        \"\"\"Get the index of r in the list roots.\n",
        "\n",
        "        If r is not in roots, append it to the list.\n",
        "\n",
        "        \"\"\"\n",
        "\n",
        "        try:\n",
        "            return np.where(np.isclose(roots, r, atol=TOL))[0][0]\n",
        "        except IndexError:\n",
        "            roots.append(r)\n",
        "            return len(roots) - 1\n",
        "\n",
        "    xmin, xmax, ymin, ymax = domain\n",
        "    for ix, x in enumerate(np.linspace(xmin, xmax, n)):\n",
        "        for iy, y in enumerate(np.linspace(ymin, ymax, n)):\n",
        "            z0 = x + y*1j\n",
        "            r = newton(z0, f, fprime)\n",
        "            if r is not False:\n",
        "                ir = get_root_index(roots, r)\n",
        "                m[iy, ix] = ir\n",
        "    nroots = len(roots)\n",
        "    if nroots > len(colors):\n",
        "        # Use a \"continuous\" colormap if there are too many roots.\n",
        "        cmap = 'hsv'\n",
        "    else:\n",
        "        # Use a list of colors for the colormap: one for each root.\n",
        "        cmap = ListedColormap(colors[:nroots])\n",
        "    plt.figure(figsize=(7,7))\n",
        "    plt.imshow(m, cmap=cmap, origin='lower')\n",
        "    plt.axis('off')\n",
        "    plt.show()\n",
        "\n",
        "    return roots\n",
        "\n",
        "f = lambda z: z**4 - 1\n",
        "fprime = lambda z: 4*z**3\n",
        "\n",
        "plot_newton_fractal(f, fprime, n = 500)"
      ]
    },
    {
      "cell_type": "markdown",
      "metadata": {
        "id": "o-RcoGULuBMd"
      },
      "source": [
        "### Метод секущих\n",
        "\n",
        "Пусть $f$ - непрерывна.\n",
        "\n",
        "Будем искать нуль функции $f(x)$. Выберем две начальные точки $B_0\\left(x_0 , f(x_0)\\right)$ и $B_1\\left(x_1 , f(x_1)\\right)$ и проведем через них прямую. Она пересечет ось абсцисс в точке $\\left(x_2 , 0\\right)$.\n",
        "\n",
        "Теперь найдем значение функции с абсциссой $x_2$. Зададим точку $B_2 = (x_2, f(x_2))$, лежащую на графике.\n",
        "\n",
        "Теперь вместо точек $B_0$ и $B_1$ мы возьмём точку $B_2$ и точку $B_1$. Теперь с этими двумя точками проделаем ту же операцию и так далее, то есть будем получать две точки $B_{n+1}$ и $B_n$ и повторять операцию с ними. Отрезок, соединяющий последние две точки, пересекает ось абсцисс в точке, значение абсциссы которой можно приближённо считать корнем.\n",
        "\n",
        "Эти действия нужно повторять до тех пор, пока не получим значение корня с нужным приближением.\n",
        "\n",
        "\n",
        "![original image](https://cdn.mathpix.com/snip/images/AdaRKQuFVBJpbSr9Rd-Dmyg0lpeiRJYq8U0kB2lwoRo.original.fullsize.png)\n",
        "\n",
        "\n",
        "Формульно,\n",
        "\n",
        ">$$\n",
        "x_{n+1}=x_{n-1}-\\frac{f\\left(x_{n-1}\\right) \\cdot\\left(x_n-x_{i-1}\\right)}{f\\left(x_n\\right)-f\\left(x_{n-1}\\right)}\n",
        "$$\n",
        "\n",
        "Скорость у него не такая большая, как у метода Ньютона, но он работает на бОльшем классе функций."
      ]
    },
    {
      "cell_type": "markdown",
      "metadata": {
        "id": "zFJnQ-JquBMd"
      },
      "source": [
        "### Метод простой итерации (релаксации)\n",
        "\n",
        "Из математического анализа нам известно, что если некоторая функция $\\Phi(x)$ является сжимающим отображением:\n",
        "\n",
        "$$\n",
        "| \\Phi(x) - \\Phi(y)| \\leqslant \\alpha \\cdot |x -  y|, \\quad \\alpha < 1\n",
        "$$\n",
        "\n",
        "то она имеет стационарную точку.\n",
        "\n",
        "В контексте нашей задачи, пусть свели исследуемое уравнение к виду:\n",
        "\n",
        "$$\n",
        "f(x)=0 \\quad \\iff \\quad \\Phi(x)=x, \\quad \\text{где $\\Phi$ - cжимающее}\n",
        "$$\n",
        "\n",
        "Тогда корень будет стационарной точкой $F$ и его можно найти методом простой итерации:\n",
        "\n",
        ">$$\n",
        "x_{n+1} = \\Phi\\left(x_n\\right)\n",
        "$$\n",
        "\n",
        "![original image](https://cdn.mathpix.com/snip/images/x2nb5SwNvga-ULSctRZ9s1D21Hg-uFifwhZjy4p7To8.original.fullsize.png)\n",
        "\n",
        "\n",
        "\n",
        "Если $f$ - дифференциируема, то проверить сжимаемость $\\Phi$ легко (достаточное условие):\n",
        "\n",
        "$$\n",
        "|\\Phi(x) - \\Phi(y)| =  \\frac{|\\Phi(x) - \\Phi(y)|}{|x-y|} \\cdot |x-y| \\leq \\max |\\Phi'| \\cdot |x-y|\n",
        "$$\n",
        "\n",
        "$$\n",
        "\\max |\\Phi'| < 1\n",
        "$$\n",
        "\n",
        "__Пример 1.__\n",
        "\n",
        "Сжимаемость в данном случае __критично важна__. Например, следующий пример простой итерации не сходится никогда (кроме случае, если мы уже начали в корне):\n",
        "\n",
        "$$\n",
        "x^2=a \\iff x=\\frac{a}{x}\n",
        "$$\n",
        "\n",
        "$$\n",
        "\\Phi(x)=\\frac{a}{x}\n",
        "$$\n",
        "\n",
        "Как видим, может просто не повезти с функцией $\\Phi$ - она получилась не сжимающей.\n",
        "\n",
        "Для того, чтобы избежать этого, метод простой итерации некоторым образом обобщают (__метод релаксации__), при котором мы __задаём__ эквивалентную сжимающую функцию $\\Phi(x)$ в следующем виде:\n",
        "\n",
        ">$$\n",
        "\\Phi(x)=x-\\lambda(x) f(x), \\quad \\lambda(x) \\neq 0\n",
        "$$\n",
        "\n",
        "и пользуемся прежней итерационной формулой\n",
        "\n",
        ">$$\n",
        "x_{n+1} = \\Phi\\left(x_n\\right)\n",
        "$$\n",
        "\n",
        "В контексте примера 1, $\\lambda$ можно выбрать $\\pm \\frac{1}{2a}$ - это создаст \"области сжимаемости\" около искомых корней.\n",
        "\n",
        "__Примечание.__ Метод Ньютона является частным случаем метода релаксации (выбором подходящего $\\lambda(x)=\\frac{1}{f'(x)}$).\n",
        "\n"
      ]
    },
    {
      "cell_type": "markdown",
      "metadata": {
        "id": "xWpkEEZo0Xbw"
      },
      "source": [
        "### Порядок сходимости метода простых итераций.\n",
        "\n",
        "**Определение порядка сходимости метода простых итераций.**\n",
        "\n",
        "Итерационный процесс\n",
        "\n",
        ">$$\n",
        "x_{n+1} = \\Phi\\left(x_n\\right)\n",
        "$$\n",
        "\n",
        "имеет p-порядок сходимости, если\n",
        "\n",
        ">$$\n",
        "|x_{n+1} - x^*| \\leq C |x_{n} - x^*|^p\n",
        "$$\n",
        "\n",
        "**Теорема о порядке сходимости метода простых итераций.**\n",
        "\n",
        "Итерационный процесс\n",
        "\n",
        ">$$\n",
        "x_{n+1} = \\Phi\\left(x_n\\right)\n",
        "$$\n",
        "\n",
        "имеет p-порядок сходимости, если\n",
        "\n",
        "$$\n",
        " \\Phi'\\left(x^*\\right) = \\Phi''\\left(x^*\\right) = ... = \\Phi^{(p-1)}\\left(x^*\\right) = 0, а \\ \\Phi^{(p)}\\left(x^*\\right) \\neq 0 .\n",
        "$$"
      ]
    },
    {
      "cell_type": "markdown",
      "metadata": {
        "id": "4P2Y9bFAuBMd"
      },
      "source": [
        "### Как найти все корни?\n",
        "\n",
        "Все рассматриваемые ранее методы позволяли найти лишь один корень. А что если нам нужны все? Нетрудно догадаться, что делать.\n",
        "\n",
        "Пусть мы нашли какое-то количество корней: $x_1, ..., x_k$ нашей $f(x)$. Строим функцию $g(x) = \\frac{f(x)}{(x-x_1)...(x-x_k)}$ и находим какой-либо её корень!\n",
        "\n",
        "Вот только после каждого деления мы повышаем ошибку округления. Таким образом, разумно с помощью данного подхода находить приближение к какому-либо новому корню $x_{k+1}^*$ и используем его как начальное приближение при поиске корня уже у самой $f(x)$.\n",
        "\n",
        "__Пример. Нахождение всех корней многочлена.__\n",
        "\n",
        "Найдём корни полинома $x^4-11 x^3+9 x^2+11 x-10$.\n",
        "\n",
        "Какую (приблизительно) долю площади на комплексной плоскости от круга $|z|<10$ занимает область притяжения наибольшего корня по модулю? Решить перебором точек."
      ]
    },
    {
      "cell_type": "code",
      "execution_count": null,
      "metadata": {
        "ExecuteTime": {
          "end_time": "2023-10-14T15:32:22.581767Z",
          "start_time": "2023-10-14T15:32:14.922692Z"
        },
        "id": "HOY4GtVFuBMd",
        "outputId": "12d89816-ccd1-406e-e16e-d20358ea1357"
      },
      "outputs": [
        {
          "data": {
            "image/png": "[encoded data removed]",
            "text/plain": [
              "<Figure size 700x700 with 1 Axes>"
            ]
          },
          "metadata": {},
          "output_type": "display_data"
        },
        {
          "name": "stdout",
          "output_type": "stream",
          "text": [
            "[(9.999999999999996+1.0423244797614476e-15j), (1.000000014266004-8.680596700749564e-09j), (-1.0000000000250509-9.374439725630672e-12j)]\n",
            "S = 8.792839736163463\n"
          ]
        }
      ],
      "source": [
        "# A list of colors to distinguish the roots.\n",
        "colors = ['xkcd:eggshell', 'mediumseagreen', 'c', 'xkcd:sky blue']\n",
        "\n",
        "TOL = 1.e-8\n",
        "\n",
        "def newton(z0, f, fprime, MAX_IT=1000):\n",
        "    \"\"\"The Newton-Raphson method applied to f(z).\n",
        "\n",
        "    Returns the root found, starting with an initial guess, z0, or False\n",
        "    if no convergence to tolerance TOL was reached within MAX_IT iterations.\n",
        "\n",
        "    \"\"\"\n",
        "\n",
        "    z = z0\n",
        "    for i in range(MAX_IT):\n",
        "\n",
        "        # Вместо всей этой секции z = optimize.newton(f, z0, fprime)\n",
        "\n",
        "        dz = f(z)/fprime(z)\n",
        "        if abs(dz) < TOL:\n",
        "            return z\n",
        "        z -= dz\n",
        "    return False\n",
        "\n",
        "def plot_newton_fractal(f, fprime, n=200, domain=(-1, 1, -1, 1)):\n",
        "    \"\"\"Plot a Newton Fractal by finding the roots of f(z).\n",
        "\n",
        "    The domain used for the fractal image is the region of the complex plane\n",
        "    (xmin, xmax, ymin, ymax) where z = x + iy, discretized into n values along\n",
        "    each axis.\n",
        "\n",
        "    \"\"\"\n",
        "\n",
        "    roots = []\n",
        "    m = np.zeros((n, n))\n",
        "\n",
        "    def get_root_index(roots, r):\n",
        "        \"\"\"Get the index of r in the list roots.\n",
        "\n",
        "        If r is not in roots, append it to the list.\n",
        "\n",
        "        \"\"\"\n",
        "\n",
        "        try:\n",
        "            return np.where(np.isclose(roots, r, atol=TOL))[0][0]\n",
        "        except IndexError:\n",
        "            roots.append(r)\n",
        "            return len(roots) - 1\n",
        "\n",
        "    xmin, xmax, ymin, ymax = domain\n",
        "    for ix, x in enumerate(np.linspace(xmin, xmax, n)):\n",
        "        for iy, y in enumerate(np.linspace(ymin, ymax, n)):\n",
        "            z0 = x + y*1j\n",
        "            r = newton(z0, f, fprime)\n",
        "            if r is not False:\n",
        "                ir = get_root_index(roots, r)\n",
        "                m[iy, ix] = ir\n",
        "\n",
        "\n",
        "    count_r_a = [0, 0]\n",
        "    max_ = -1\n",
        "    i_max = -1\n",
        "\n",
        "    for i, root in enumerate(roots):\n",
        "        abs_ = root.real**2 + root.imag**2\n",
        "\n",
        "        if abs_ > max_:\n",
        "            max_ = abs_\n",
        "            i_max = i\n",
        "\n",
        "    for ix, x in enumerate(np.linspace(xmin, xmax, n)): # Считаем долю площади наиб. корня\n",
        "        for iy, y in enumerate(np.linspace(ymin, ymax, n)):\n",
        "            if x**2 + y**2 < 10**2:\n",
        "                count_r_a[1] += 1\n",
        "\n",
        "                if (m[iy, ix] == i_max):\n",
        "                    count_r_a[0] += 1\n",
        "\n",
        "    nroots = len(roots)\n",
        "    if nroots > len(colors):\n",
        "        # Use a \"continuous\" colormap if there are too many roots.\n",
        "        cmap = 'hsv'\n",
        "    else:\n",
        "        # Use a list of colors for the colormap: one for each root.\n",
        "        cmap = ListedColormap(colors[:nroots])\n",
        "\n",
        "    plt.figure(figsize=(7,7))\n",
        "    plt.imshow(m, extent = [xmin, xmax, ymin, ymax], cmap=cmap)\n",
        "\n",
        "    for i, root in enumerate(roots):\n",
        "        plt.scatter(root.real, root.imag)\n",
        "\n",
        "    plt.show()\n",
        "\n",
        "    return roots, float(count_r_a[0]/count_r_a[1])*np.pi*100\n",
        "\n",
        "f = lambda z: z**4 - 11*z**3 + 9*z**2 + 11*z - 10\n",
        "fprime = lambda z: 4*z**3 - 33*z**2 + 18*z + 11\n",
        "\n",
        "domain=(-10, 10, -10, 10)\n",
        "n = 400\n",
        "\n",
        "roots, m = plot_newton_fractal(f, fprime, n=n, domain=domain)\n",
        "print(roots)\n",
        "print(f\"S = {m}\")"
      ]
    },
    {
      "cell_type": "code",
      "execution_count": null,
      "metadata": {
        "ExecuteTime": {
          "end_time": "2023-10-14T15:32:23.208314Z",
          "start_time": "2023-10-14T15:32:22.583520Z"
        },
        "id": "Se_W9GWzuBMe",
        "outputId": "2d2ac637-0279-4743-9d9b-54f60115dc49"
      },
      "outputs": [
        {
          "data": {
            "text/latex": [
              "$\\displaystyle x^{4} - 11 x^{3} + 9 x^{2} + 11 x - 10$"
            ],
            "text/plain": [
              "x**4 - 11*x**3 + 9*x**2 + 11*x - 10"
            ]
          },
          "metadata": {},
          "output_type": "display_data"
        },
        {
          "data": {
            "text/latex": [
              "$\\displaystyle x^{3} - x^{2} - x + 1$"
            ],
            "text/plain": [
              "x**3 - x**2 - x + 1"
            ]
          },
          "metadata": {},
          "output_type": "display_data"
        },
        {
          "data": {
            "text/latex": [
              "$\\displaystyle x^{2} - 1$"
            ],
            "text/plain": [
              "x**2 - 1"
            ]
          },
          "metadata": {},
          "output_type": "display_data"
        },
        {
          "data": {
            "text/latex": [
              "$\\displaystyle x + 1$"
            ],
            "text/plain": [
              "x + 1"
            ]
          },
          "metadata": {},
          "output_type": "display_data"
        },
        {
          "data": {
            "text/latex": [
              "$\\displaystyle 1$"
            ],
            "text/plain": [
              "1"
            ]
          },
          "metadata": {},
          "output_type": "display_data"
        }
      ],
      "source": [
        "# Проверим, что нашли все корни с помощью аналитических вычислений\n",
        "import sympy as smp # Библиотека для символьных вычислений\n",
        "\n",
        "x = smp.symbols(\"x\")\n",
        "f = x**4 - 11*x**3 + 9*x**2 + 11*x - 10\n",
        "\n",
        "display(f)\n",
        "\n",
        "f1 = (f/(x-10)).simplify()\n",
        "display(f1)\n",
        "\n",
        "f2 = (f1/(x-1)).simplify()\n",
        "display(f2)\n",
        "\n",
        "f3 = (f2/(x-1)).simplify()\n",
        "display(f3)\n",
        "\n",
        "f4 = (f3/(x+1)).simplify()\n",
        "display(f4)"
      ]
    },
    {
      "cell_type": "markdown",
      "metadata": {
        "id": "5pFwDxPiuBMe"
      },
      "source": [
        "## Нелинейные системы уравнений\n",
        "\n",
        "Пусть имеем систему нелинейных уравнений\n",
        "\n",
        "$$\n",
        "\\left\\{\\begin{array}{l}\n",
        "f_1\\left(x_1, x_2, \\ldots, x_n\\right)=0 \\\\\n",
        "f_2\\left(x_1, x_2, \\ldots, x_n\\right)=0 \\\\\n",
        "...\\\\\n",
        "f_n\\left(x_1, x_2, \\ldots, x_n\\right)=0\n",
        "\\end{array} \\quad \\Leftrightarrow \\quad \\vec{F}(x)=0\\right.\n",
        "$$\n",
        "\n",
        "Хотим найти все её корни."
      ]
    },
    {
      "cell_type": "markdown",
      "metadata": {
        "id": "cN7CS31VuBMe"
      },
      "source": [
        "### Сведение к поиску минимума\n",
        "\n",
        "Перепишем её в виде одной функции $n$ переменных:\n",
        "\n",
        ">$$\n",
        "\\Psi(x)=\\sum_{i=1}^n\\left(f_n\\right)^2=0\n",
        "$$\n",
        "\n",
        "А тогда решение системы эквивалентно поиску глобальных минимумов этой функции:\n",
        "\n",
        ">$$\n",
        "\\min \\Psi(x) = \\, ?\n",
        "$$\n",
        "\n",
        "Простейшим способом поиска минимума является градиентный спуск, который мы уже рассматривали в курсе. Другие методы мы рассмотрим позже в этом семинаре."
      ]
    },
    {
      "cell_type": "markdown",
      "metadata": {
        "id": "1gGNR-MquBMe",
        "jp-MarkdownHeadingCollapsed": true
      },
      "source": [
        "### Метод простой итерации\n",
        "\n",
        "Аналогично параграфу про МПИ для функции одной переменной:\n",
        "\n",
        "$$\n",
        "\\begin{aligned}\n",
        "&\\vec{F}(x)=0 \\iff \\vec{\\Phi}(x)=x \\\\ \\\\\n",
        "&x_{n+1}=\\vec{\\Phi}\\left(x_n\\right)\n",
        "\\end{aligned}\n",
        "$$\n",
        "\n",
        "Заметим, что домножение на невырожденную матрицу $\\Lambda$ (которая также может зависеть от $x$) не влияет на корни. Таким образом, получаем обобщение __метода релаксации для нескольких переменных__:\n",
        "\n",
        "$$\n",
        "\\vec{F}(x)=0 \\iff \\Lambda \\vec{F}(x)=0\n",
        "$$\n",
        "\n",
        "и тогда $\\vec{\\Phi}(x)$ можно выбрать как\n",
        "\n",
        ">$$\n",
        "\\vec{\\Phi}(x)=x - \\Lambda \\vec{F}(x)\n",
        "$$\n",
        "\n",
        "и решать прежний итерационный процесс:\n",
        "\n",
        ">$$\n",
        "x_{n+1}=\\vec{\\Phi}\\left(x_n\\right)\n",
        "$$\n",
        "\n",
        "Достаточным условием сжимаемости отображения будет:\n",
        "\n",
        "$$\n",
        "\\max _{x \\in G} \\max _i \\sum_{j=1}^n\\left|\\frac{\\partial \\varphi_i(x)}{\\partial x_j}\\right| \\leq q<1\n",
        "$$\n",
        "\n",
        "или, что эквивалентно, какая-либо норма матрицы Якоби $\\vec{\\Phi}(x)$ должна быть меньше единицы.\n"
      ]
    },
    {
      "cell_type": "markdown",
      "metadata": {
        "id": "EUDtZHXluBMe"
      },
      "source": [
        "### Метод Зейделя\n",
        "\n",
        "$$\n",
        "\\vec{F}(x)=0 \\iff \\vec{\\Phi}(x)=x\n",
        "$$\n",
        "\n",
        "Является модификацией метода простой итерации, только теперь при вычислении следующих итераций мы будем пользоваться уже вычисленными новыми координатами:\n",
        "\n",
        ">$$\n",
        "\\begin{aligned}\n",
        "&x_1^{n+1}=\\varphi_1\\left(x_1^n, x_2^n, ..., x_n^n\\right) \\\\\n",
        "\\\\\n",
        "&x_2^{n+1}=\\varphi_2\\left(x_1^{n+1}, x_2^n, \\ldots, x_n^n\\right)\n",
        "\\\\ \\\\\n",
        "&x_3^{n+1}=\\varphi_3\\left(x_1^{n+1}, x_2^{n+1}, x_3^{n} \\ldots, x_n^n\\right) \\\\\n",
        "\\\\\n",
        "&...\n",
        "\\end{aligned}\n",
        "$$\n",
        "\n",
        "По идее, должен сходится быстрее, чем обычный МПИ."
      ]
    },
    {
      "cell_type": "markdown",
      "metadata": {
        "id": "xk2nTnhLuBMe"
      },
      "source": [
        "### Метод Ньютона\n",
        "\n",
        "Является частным случаем метода релаксации для системы при выборе $\\Lambda (x) = J^{(-1)}(x)$ - обратная матрицы Якоби вектора уравнений $\\vec{F}$. Тогда формула для итерации будет:\n",
        "\n",
        "$$\n",
        "x_{n+1}=x_n-J^{(-1)}\\left(x_n\\right) \\cdot \\vec{F}\\left(x_n\\right)\n",
        "$$\n",
        "\n",
        "Однако вычислять эту обратную матрицу Якоби вовсе необязательно. Заметим, что эта формула эквивалентна следующей системе линейных уравнений:\n",
        "\n",
        ">$$\n",
        "J\\left(x_n\\right) \\Delta x_{n+1}=-\\vec{F}\\left(x_n\\right)\n",
        "$$\n",
        "\n",
        "Решая эту СЛАУ относительно вектора $\\Delta x_{n+1}$, мы и получаем прибавку на текущей итерации.\n",
        "\n",
        "__Пример.__ Проиллюстрируем этот метод на решении следующей системы:\n",
        "\n",
        "$$\n",
        "\\left\\{\\begin{array}{l}\n",
        "x_1^2-x_2+x_1 \\cdot \\cos \\left(\\pi x_1\\right)=0 \\\\\n",
        "x_1 \\cdot x_2+e^{-x_2}-\\frac{1}{x_1}=0\n",
        "\\end{array}\\right.\n",
        "$$\n",
        "\n",
        "Источник: http://hplgit.github.io/prog4comp/doc/pub/._p4c-solarized-Python031.html"
      ]
    },
    {
      "cell_type": "code",
      "execution_count": null,
      "metadata": {
        "ExecuteTime": {
          "end_time": "2023-10-14T15:32:23.244256Z",
          "start_time": "2023-10-14T15:32:23.210464Z"
        },
        "id": "A83KfqzquBMf",
        "outputId": "f81ef645-c809-46fc-ae41-987b11e9cc5e"
      },
      "outputs": [
        {
          "name": "stdout",
          "output_type": "stream",
          "text": [
            "Система уравнений:\n"
          ]
        },
        {
          "data": {
            "text/latex": [
              "$\\displaystyle x_{1}^{2} + x_{1} \\cos{\\left(\\pi x_{1} \\right)} - x_{2}$"
            ],
            "text/plain": [
              "x1**2 + x1*cos(pi*x1) - x2"
            ]
          },
          "metadata": {},
          "output_type": "display_data"
        },
        {
          "data": {
            "text/latex": [
              "$\\displaystyle x_{1} x_{2} + e^{- x_{2}} - \\frac{1}{x_{1}}$"
            ],
            "text/plain": [
              "x1*x2 + exp(-x2) - 1/x1"
            ]
          },
          "metadata": {},
          "output_type": "display_data"
        },
        {
          "name": "stdout",
          "output_type": "stream",
          "text": [
            "\n",
            "Матрица Якоби:\n"
          ]
        },
        {
          "data": {
            "text/latex": [
              "$\\displaystyle \\left[\\begin{matrix}- \\pi x_{1} \\sin{\\left(\\pi x_{1} \\right)} + 2 x_{1} + \\cos{\\left(\\pi x_{1} \\right)} & -1\\\\x_{2} + \\frac{1}{x_{1}^{2}} & x_{1} - e^{- x_{2}}\\end{matrix}\\right]$"
            ],
            "text/plain": [
              "Matrix([\n",
              "[-pi*x1*sin(pi*x1) + 2*x1 + cos(pi*x1),            -1],\n",
              "[                        x2 + x1**(-2), x1 - exp(-x2)]])"
            ]
          },
          "metadata": {},
          "output_type": "display_data"
        }
      ],
      "source": [
        "# Не хотим вычислять матрицу Якоби ручками - символьные вычисления спешат на помощь\n",
        "import sympy as smp\n",
        "\n",
        "# Определение переменных\n",
        "x1, x2 = smp.symbols('x1 x2')\n",
        "\n",
        "# Определение уравнений\n",
        "eq1 = x1**2 - x2 + x1*smp.cos(smp.pi*x1)\n",
        "eq2 = x1*x2 + smp.exp(-x2) - 1/x1\n",
        "\n",
        "# Создание списка уравнений\n",
        "equations = [eq1, eq2]\n",
        "\n",
        "# Нахождение Якобиана\n",
        "Jacobian_matrix = smp.Matrix([[smp.diff(eq, var) for var in (x1, x2)] for eq in equations])\n",
        "\n",
        "# Вывод уравнений и матрицы Якоби\n",
        "print(\"Система уравнений:\")\n",
        "for eq in equations:\n",
        "    display(eq)\n",
        "\n",
        "print(\"\\nМатрица Якоби:\")\n",
        "display(Jacobian_matrix)\n"
      ]
    },
    {
      "cell_type": "code",
      "execution_count": null,
      "metadata": {
        "ExecuteTime": {
          "end_time": "2023-10-14T15:32:23.254460Z",
          "start_time": "2023-10-14T15:32:23.246672Z"
        },
        "id": "asldXDJTuBMf"
      },
      "outputs": [],
      "source": [
        "import numpy as np\n",
        "\n",
        "def F(x):\n",
        "    return np.array(\n",
        "        [x[0]**2 - x[1] + x[0]*np.cos(np.pi*x[0]),\n",
        "         x[0]*x[1] + np.exp(-x[1]) - x[0]**(-1)])\n",
        "\n",
        "def J(x):\n",
        "    return np.array(\n",
        "        [[2*x[0] + np.cos(np.pi*x[0]) - np.pi*x[0]*np.sin(np.pi*x[0]), -1],\n",
        "         [x[1] + x[0]**(-2), x[0] - np.exp(-x[1])]])\n",
        "\n",
        "def Newton_system(F, J, x, eps):\n",
        "    \"\"\"\n",
        "    Solve nonlinear system F=0 by Newton's method.\n",
        "    J is the Jacobian of F. Both F and J must be functions of x.\n",
        "    At input, x holds the start value. The iteration continues\n",
        "    until ||F|| < eps.\n",
        "    \"\"\"\n",
        "    F_value = F(x)\n",
        "    F_norm = np.linalg.norm(F_value, ord=2)  # l2 norm of vector\n",
        "    iteration_counter = 0\n",
        "    while abs(F_norm) > eps and iteration_counter < 100:\n",
        "        delta = np.linalg.solve(J(x), -F_value)\n",
        "        x = x + delta\n",
        "        F_value = F(x)\n",
        "        F_norm = np.linalg.norm(F_value, ord=2)\n",
        "        iteration_counter += 1\n",
        "\n",
        "    # Here, either a solution is found, or too many iterations\n",
        "    if abs(F_norm) > eps:\n",
        "        iteration_counter = -1\n",
        "    return x, iteration_counter"
      ]
    },
    {
      "cell_type": "code",
      "execution_count": null,
      "metadata": {
        "ExecuteTime": {
          "end_time": "2023-10-14T15:32:23.262825Z",
          "start_time": "2023-10-14T15:32:23.256889Z"
        },
        "id": "4R2Jh8QBuBMf",
        "outputId": "aa385e01-76f5-4b3e-cb3a-f59404c5a8a9"
      },
      "outputs": [
        {
          "name": "stdout",
          "output_type": "stream",
          "text": [
            "[ 1.00000006e+00 -1.00943962e-06] 4\n",
            "norm of error =1.01115e-06\n"
          ]
        }
      ],
      "source": [
        "expected = np.array([1, 0])\n",
        "tol = 1e-4\n",
        "x, n = Newton_system(F, J, x=np.array([2., -1.]), eps=0.0001)\n",
        "print(x, n)\n",
        "error_norm = np.linalg.norm(expected - x, ord=2)\n",
        "assert error_norm < tol, 'norm of error =%g' % error_norm\n",
        "print('norm of error =%g' % error_norm)"
      ]
    },
    {
      "cell_type": "markdown",
      "metadata": {
        "id": "f2emWlFquBMg"
      },
      "source": [
        "## Домашнее задание\n",
        "\n"
      ]
    },
    {
      "cell_type": "markdown",
      "metadata": {
        "id": "tvwV0vXR3LiS"
      },
      "source": [
        "### 1. Локализация корней.\n",
        "\n",
        "Локализовать действительные корни в уравнении:\n",
        "\n",
        "$$\n",
        "f(x)=20 x^{3} - 4 x^{2} - 5 x + 1 .\n",
        "$$"
      ]
    },
    {
      "cell_type": "markdown",
      "source": [
        "**Решение**\n",
        "\n",
        "По следствию из основной теоремы алгебры, все действительные корни лежат на пересечении кольца в комплексной плоскости с внутренним радиусом $\\alpha$, внешним радиусом $\\beta$ и положительной частью действительной оси, т.е. в интервале $[\\alpha, \\beta]$, где\n",
        "\n",
        "$$\n",
        "\\alpha=\\frac{\\left|a_{3}\\right|}{\\left|a_{3}\\right|+B}=\\frac{1}{21}, \\beta=1+\\frac{|A|}{\\left|a_{0}\\right|}=\\frac{5}{4}\n",
        "$$\n",
        "\n",
        "т.к. $A=\\max \\{4,5,1\\}=5, \\quad B=\\max \\{20,4,5\\}=20, \\quad\\left|a_{0}\\right|=20, \\quad\\left|a_{3}\\right|=1$.\n",
        "\n",
        "Число корней:\n",
        "\n",
        "по теореме Штурма последовательность функции и ее производных\n",
        "\n",
        "$$\n",
        "\\begin{gathered}\n",
        "f(x)=20 x^{3}- 4 x^{2}-5 x+1, f(\\alpha) \\approx 0.75 >0, f(\\beta) \\approx 27.6>0, \\\\\n",
        "f'(x)=60x^2-8x-5, f^{\\prime}(\\alpha) \\approx-5.24<0, f^{\\prime}(\\beta) \\approx 78.75>0, \\\\\n",
        "f^{\\prime \\prime}(x)=120x-8, f^{\\prime \\prime}(\\alpha) \\approx-2.29<0, f^{\\prime \\prime}(\\beta) \\approx 142>0, \\\\\n",
        "f^{\\prime \\prime \\prime}(x)=120=f^{\\prime \\prime \\prime}(\\alpha)=f^{\\prime \\prime \\prime}(\\beta)>0, \\\\\n",
        "\\Delta=S(\\alpha+0)-S(\\beta-0)=2-0=2,\n",
        "\\end{gathered}\n",
        "$$\n",
        "\n",
        "т.е. $f(x)$ имеет два положительных корня на отрезке $\\left[\\frac{1}{21}, \\frac{5}{4}\\right]$;\n"
      ],
      "metadata": {
        "id": "SSLpZBg1oFb8"
      }
    },
    {
      "cell_type": "markdown",
      "metadata": {
        "id": "4Rptf0343R3g"
      },
      "source": [
        "### 2. Порядок сходимости итерационного метода.\n",
        "\n",
        "Определить порядок сходимости итерационного метода при вычислении квадратного корня $x^* = \\sqrt a$ :\n",
        "\n",
        "\n",
        "\n",
        "$$\n",
        "x_{n+1}=x_n - \\frac{11x_n^4 - 4x_n^2 a + a^2}{16 x_n^5} (x_n^2 - a)\n",
        "$$"
      ]
    },
    {
      "cell_type": "markdown",
      "source": [
        "Производные:\n",
        "$$\\Phi'(a)=\\left(\\frac{5 \\left(x^2-a\\right)^3}{16 x^6}\\right), (x=\\sqrt{a})=0$$\n",
        "   $$\\Phi''(a)=\\left(\\frac{15 a \\left(a-x^2\\right)^2}{8 x^7}\\right), (x=\\sqrt{a})=0$$\n",
        "$$\\Phi'''(a)=\\left(-\\frac{15 a \\left(7 a^2-10 a x^2+3 x^4\\right)}{8 x^8}\\right), (x=\\sqrt{a})=0$$\n",
        "$$\\Phi''''(a)=\\left(\\frac{15 a \\left(14 a^2-15 a x^2+3 x^4\\right)}{2 x^9}\\right),(x=\\sqrt{a})=\\frac{15}{a^{3/2}}$$\n",
        "Значит порядлк сходимости = 4."
      ],
      "metadata": {
        "id": "6Vi_Z8mDHcB1"
      }
    },
    {
      "cell_type": "markdown",
      "metadata": {
        "id": "D26IM4_MuBMg"
      },
      "source": [
        "\n",
        "\n",
        "### 3. Метод Ньютона и Гаусса-Ньютона.\n",
        "\n",
        "Решение проблемы многомерной линейной регрессии нормальным уравнением очень похоже на обобщение метода Ньютона на многомерный случай. Но это не так.\n",
        "Укажите, в чём различие между методами. В одномерном случае\n",
        "\n",
        "$$\n",
        "f(x) \\approx f(x_0) + f^{\\prime}(x_0)(x - x_0) = 0\n",
        "$$\n",
        "\n",
        "$$\n",
        "x =  x_0 - \\frac{f(x_0)}{f^{\\prime}(x_0)}\n",
        "$$\n",
        "\n",
        "Обобщение метода Ньютона на многомерный случай выглядит так.\n",
        "\n",
        "$$\n",
        "F(\\vec{β}) \\approx F(\\vec{β^{(0)}}) + \\sum\\limits_{i=1}^n{\\frac{∂F(\\vec{β^{(0)}})}{∂β_i}(β_i - β^0_i)} = 0\n",
        "$$\n",
        "\n",
        "$$\n",
        "F(\\vec{β^{(0)}}) + \\nabla F(\\vec{β^{(0)}})\\vec{p}   = 0\n",
        "$$\n",
        "\n",
        "В случае поиска минимума функции F к нулю приравниваем частные производные F\n",
        "$$\n",
        "\\frac{∂F(\\vec{β})}{∂β_i} \\approx \\frac{∂F(\\vec{β^{(0)}})}{∂β_i} + \\sum\\limits_{j=1}^n{\\frac{∂^2F(\\vec{β^{(0)}})}{∂β_i∂β_j}(β_i - β^0_i)} = 0\n",
        "$$\n",
        "\n",
        "Хинт: покажите, что\n",
        "\n",
        "$$\n",
        "2J^TJ  \\neq   H_{ij}\n",
        "$$\n",
        "\n",
        "$H_{ij}$ - гессиан F.\n"
      ]
    },
    {
      "cell_type": "markdown",
      "source": [
        "По определнию $J_{ik} = \\frac{∂f(w,x_i)}{∂w_k}$, поэтому\n",
        "\n",
        "$$J_{ik}J_{ki}=\\frac{∂f(w,x_i)}{∂w_k}\\frac{∂f(w,x_k)}{∂w_i} \\neq \\frac{∂^2f(w,x)}{∂w_k∂w_i} = H_{ij}$$\n",
        "\n",
        "В этих двух методах нас интересуют разные вещи: в методе нормального уравнения - $J^TJ$, а в обобщении метода Ньютона - $H$, что не равно друг другу."
      ],
      "metadata": {
        "id": "T652BZmHJZVz"
      }
    },
    {
      "cell_type": "markdown",
      "metadata": {
        "id": "nZsyCInEuBMm"
      },
      "source": [
        "### 4. Зри в корень\n",
        "\n",
        "Отделить корни следующих уравнений, а затем уточнить один из них с помощью подходящего итерационно процесса (любых двух на ваш выбор двумя разными методами):\n",
        "\n",
        "\n",
        "a) $(0.5)^x+1=(x-1)^2$,\n",
        "\n",
        "__b)__ $(x-3) \\cos x=1, \\quad-2 \\pi \\leq \\mathrm{x} \\leq 2 \\pi$,\n",
        "\n",
        "c) $\\operatorname{arctg}(x-1)+2 x=0$,\n",
        "\n",
        "__d)__ $x^2-20 \\sin x=0$\n",
        "\n",
        "e) $2 \\operatorname{tg} x-x / 2+1=0$,\n",
        "\n",
        "__f)__ $2 \\lg x-x / 2+1=0$,\n",
        "\n",
        "g) $x^2-e^x / 5=0$\n",
        "\n",
        "__h)__ $\\ln x+(x-1)^3=0$,\n",
        "\n",
        "i) $x 2^x=1$\n",
        "\n",
        "__j)__ $(x+1)^{0.5}=1 / x$."
      ]
    },
    {
      "cell_type": "code",
      "source": [
        "from scipy import optimize # В этом модуле есть все рассказанные методы оптимизации (нахождения корней или минимумов)\n",
        "import numpy as np\n",
        "\n",
        "f = lambda x: np.arctan(x-1)+2*x\n",
        "fprime = lambda x: 2 + 1/(2 - 2*x + x**2)\n",
        "\n",
        "print('Решение для arctg(x-1)+2x = 0 (метод Ньютона):',optimize.newton(f, 1, fprime))\n",
        "\n",
        "f = lambda x: x**2-20*np.sin(x)\n",
        "\n",
        "print('Одно из решений для x^2-20*sin(x) = 0 (метод бисекции):',optimize.bisect(f, 2, 4))\n"
      ],
      "metadata": {
        "colab": {
          "base_uri": "https://localhost:8080/"
        },
        "id": "2PMo1bTXxkGy",
        "outputId": "79ee50d9-cf6e-473c-be2a-f0d93d906557"
      },
      "execution_count": null,
      "outputs": [
        {
          "output_type": "stream",
          "name": "stdout",
          "text": [
            "Решение для arctg(x-1)+2x = 0 (метод Ньютона): 0.3040135965926769\n",
            "Одно из решений для x^2-20*sin(x) = 0 (метод бисекции): 2.752946633818283\n"
          ]
        }
      ]
    },
    {
      "cell_type": "markdown",
      "metadata": {
        "id": "wH0FmFPMuBMm"
      },
      "source": [
        "### 5. Зри в корень дважды\n",
        "\n",
        "Вычислить с точностью $\\varepsilon=10^{-3}$ координаты точек пересечения кривых (любых двух на ваш выбор двумя разными методами):\n",
        "\n",
        "a)\n",
        "$$\n",
        "\\left\\{\\begin{array}{l}\n",
        "\\sin (x+1)-y=1.2 \\\\\n",
        "2 x+\\cos (y)=2\n",
        "\\end{array}\\right.\n",
        "$$\n",
        "б)\n",
        "$$\n",
        "\\left\\{\\begin{array}{l}\n",
        "\\tan (x y+0.4)=x^2 \\\\\n",
        "0.6 x^2+2 y^2=1\n",
        "\\end{array}\\right.\n",
        "$$\n",
        "B)\n",
        "$$\n",
        "\\left\\{\\begin{array}{l}\n",
        "\\cos (x-1)+y=0.5 \\\\\n",
        "x-\\cos (y)=3\n",
        "\\end{array}\\right.\n",
        "$$\n",
        "г)\n",
        "$$\n",
        "\\left\\{\\begin{array}{l}\n",
        "\\sin (x+2)-y=1.5 \\\\\n",
        "x+\\cos (y-2)=0.5\n",
        "\\end{array}\\right.\n",
        "$$"
      ]
    },
    {
      "cell_type": "code",
      "source": [
        "# Не хотим вычислять матрицу Якоби ручками - символьные вычисления спешат на помощь\n",
        "import sympy as smp\n",
        "\n",
        "# Определение переменных\n",
        "x1, x2 = smp.symbols('x1 x2')\n",
        "\n",
        "# Определение уравнений\n",
        "eq1 = smp.sin(x1+1)-x2-1.2\n",
        "eq2 = 2*x1+smp.cos(x2)-2\n",
        "\n",
        "# Создание списка уравнений\n",
        "equations = [eq1, eq2]\n",
        "\n",
        "# Нахождение Якобиана\n",
        "Jacobian_matrix = smp.Matrix([[smp.diff(eq, var) for var in (x1, x2)] for eq in equations])\n",
        "\n",
        "# Вывод уравнений и матрицы Якоби\n",
        "print(\"Система уравнений:\")\n",
        "for eq in equations:\n",
        "    display(eq)\n",
        "\n",
        "print(\"\\nМатрица Якоби:\")\n",
        "display(Jacobian_matrix)"
      ],
      "metadata": {
        "colab": {
          "base_uri": "https://localhost:8080/",
          "height": 154
        },
        "id": "2fqTXGA_3uQE",
        "outputId": "b4d9b11a-a7b3-403b-e57c-ef12706dbb95"
      },
      "execution_count": null,
      "outputs": [
        {
          "output_type": "stream",
          "name": "stdout",
          "text": [
            "Система уравнений:\n"
          ]
        },
        {
          "output_type": "display_data",
          "data": {
            "text/plain": [
              "-x2 + sin(x1 + 1) - 1.2"
            ],
            "text/latex": "$\\displaystyle - x_{2} + \\sin{\\left(x_{1} + 1 \\right)} - 1.2$"
          },
          "metadata": {}
        },
        {
          "output_type": "display_data",
          "data": {
            "text/plain": [
              "2*x1 + cos(x2) - 2"
            ],
            "text/latex": "$\\displaystyle 2 x_{1} + \\cos{\\left(x_{2} \\right)} - 2$"
          },
          "metadata": {}
        },
        {
          "output_type": "stream",
          "name": "stdout",
          "text": [
            "\n",
            "Матрица Якоби:\n"
          ]
        },
        {
          "output_type": "display_data",
          "data": {
            "text/plain": [
              "Matrix([\n",
              "[cos(x1 + 1),       -1],\n",
              "[          2, -sin(x2)]])"
            ],
            "text/latex": "$\\displaystyle \\left[\\begin{matrix}\\cos{\\left(x_{1} + 1 \\right)} & -1\\\\2 & - \\sin{\\left(x_{2} \\right)}\\end{matrix}\\right]$"
          },
          "metadata": {}
        }
      ]
    },
    {
      "cell_type": "code",
      "source": [
        "# Определение уравнений\n",
        "eq1 = smp.tan(x1*x2+0.4)-x1**2\n",
        "eq2 = 0.6*x1**2+2*x2**2-1\n",
        "\n",
        "# Создание списка уравнений\n",
        "equations = [eq1, eq2]\n",
        "\n",
        "# Нахождение Якобиана\n",
        "Jacobian_matrix = smp.Matrix([[smp.diff(eq, var) for var in (x1, x2)] for eq in equations])\n",
        "\n",
        "# Вывод уравнений и матрицы Якоби\n",
        "print(\"Система уравнений:\")\n",
        "for eq in equations:\n",
        "    display(eq)\n",
        "\n",
        "print(\"\\nМатрица Якоби:\")\n",
        "display(Jacobian_matrix)"
      ],
      "metadata": {
        "colab": {
          "base_uri": "https://localhost:8080/",
          "height": 154
        },
        "id": "bja-aWjL7rz9",
        "outputId": "e169d1f9-96f2-4565-c4e7-a6276b625dc8"
      },
      "execution_count": null,
      "outputs": [
        {
          "output_type": "stream",
          "name": "stdout",
          "text": [
            "Система уравнений:\n"
          ]
        },
        {
          "output_type": "display_data",
          "data": {
            "text/plain": [
              "-x1**2 + tan(x1*x2 + 0.4)"
            ],
            "text/latex": "$\\displaystyle - x_{1}^{2} + \\tan{\\left(x_{1} x_{2} + 0.4 \\right)}$"
          },
          "metadata": {}
        },
        {
          "output_type": "display_data",
          "data": {
            "text/plain": [
              "0.6*x1**2 + 2*x2**2 - 1"
            ],
            "text/latex": "$\\displaystyle 0.6 x_{1}^{2} + 2 x_{2}^{2} - 1$"
          },
          "metadata": {}
        },
        {
          "output_type": "stream",
          "name": "stdout",
          "text": [
            "\n",
            "Матрица Якоби:\n"
          ]
        },
        {
          "output_type": "display_data",
          "data": {
            "text/plain": [
              "Matrix([\n",
              "[-2*x1 + x2*(tan(x1*x2 + 0.4)**2 + 1), x1*(tan(x1*x2 + 0.4)**2 + 1)],\n",
              "[                              1.2*x1,                         4*x2]])"
            ],
            "text/latex": "$\\displaystyle \\left[\\begin{matrix}- 2 x_{1} + x_{2} \\left(\\tan^{2}{\\left(x_{1} x_{2} + 0.4 \\right)} + 1\\right) & x_{1} \\left(\\tan^{2}{\\left(x_{1} x_{2} + 0.4 \\right)} + 1\\right)\\\\1.2 x_{1} & 4 x_{2}\\end{matrix}\\right]$"
          },
          "metadata": {}
        }
      ]
    },
    {
      "cell_type": "code",
      "source": [
        "import numpy as np\n",
        "\n",
        "def F(x):\n",
        "    return np.array([(-1)*x[1]+np.sin(x[0]+1)-1.2, 2*x[0]+np.cos(x[1])-2])\n",
        "\n",
        "def J(x):\n",
        "    return np.array(\n",
        "        [[np.cos(x[0]+1), -1],\n",
        "         [2, -np.sin(x[1])]])\n",
        "\n",
        "def F2(x):\n",
        "    return np.array([(-1)*x[0]**2+np.tan(x[0]*x[1]+0.4),0.6*x[0]**2+2*x[1]**2-1])\n",
        "\n",
        "def J2(x):\n",
        "    return np.array(\n",
        "        [[-2*x[0]+x[1]*(np.tan(x[0]*x[1]+0.4)**2+1), x[0]*(np.tan(x[0]*x[1]+0.4)**2+1)],\n",
        "         [1.2*x[0],4*x[1]]])\n",
        "\n",
        "def Newton_system(F, J, x, eps):\n",
        "    \"\"\"\n",
        "    Solve nonlinear system F=0 by Newton's method.\n",
        "    J is the Jacobian of F. Both F and J must be functions of x.\n",
        "    At input, x holds the start value. The iteration continues\n",
        "    until ||F|| < eps.\n",
        "    \"\"\"\n",
        "    F_value = F(x)\n",
        "    F_norm = np.linalg.norm(F_value, ord=2)  # l2 norm of vector\n",
        "    iteration_counter = 0\n",
        "    while abs(F_norm) > eps and iteration_counter < 10000:\n",
        "        delta = np.linalg.solve(J(x), -F_value)\n",
        "        x = x + delta\n",
        "        F_value = F(x)\n",
        "        F_norm = np.linalg.norm(F_value, ord=2)\n",
        "        iteration_counter += 1\n",
        "\n",
        "    # Here, either a solution is found, or too many iterations\n",
        "    if abs(F_norm) > eps:\n",
        "        iteration_counter = -1\n",
        "    return x, iteration_counter\n",
        "\n",
        "x, n = Newton_system(F, J, x=np.array([0.5, 0.]), eps=0.001)\n",
        "print('Система 1:', x)\n",
        "\n",
        "x, n = Newton_system(F2, J2, x=np.array([0., -0.5]), eps=0.001)\n",
        "print('Система 2:', x)"
      ],
      "metadata": {
        "colab": {
          "base_uri": "https://localhost:8080/"
        },
        "id": "M7Klv49s4SHk",
        "outputId": "636e2e76-a335-4316-f4ba-4c3107d8e04e"
      },
      "execution_count": null,
      "outputs": [
        {
          "output_type": "stream",
          "name": "stdout",
          "text": [
            "Система 1: [ 0.51014492 -0.20178739]\n",
            "Система 2: [ 0.37985301 -0.67580736]\n"
          ]
        }
      ]
    },
    {
      "cell_type": "markdown",
      "metadata": {
        "id": "M54t1xbyuBMm"
      },
      "source": [
        "### 6*. Оценка скорости сходимости метода Ньютона.\n",
        "Покажите, что для функции $f(x)=|x|^{5 / 2}$ метод Ньютона сходится лишь экспонциально - т.е. невязка уменьшается пропорционально $e^{-n}$.\n",
        "\n",
        "Покажите аналитически, что метод Ньютона в лучшем случае имеет квадратичную экспонциальную сходимость, т.е. ошибка убывает пропорционально $e^{-n^2}$."
      ]
    }
  ],
  "metadata": {
    "anaconda-cloud": {},
    "celltoolbar": "Слайд-шоу",
    "colab": {
      "provenance": []
    },
    "kernelspec": {
      "display_name": "Python 3 (ipykernel)",
      "language": "python",
      "name": "python3"
    },
    "language_info": {
      "codemirror_mode": {
        "name": "ipython",
        "version": 3
      },
      "file_extension": ".py",
      "mimetype": "text/x-python",
      "name": "python",
      "nbconvert_exporter": "python",
      "pygments_lexer": "ipython3",
      "version": "3.11.5"
    },
    "livereveal": {
      "scroll": true,
      "theme": "simple",
      "transition": "convex"
    },
    "nbpresent": {
      "slides": {
        "1ffee25c-251f-4cbf-af3d-a1d5521081b9": {
          "id": "1ffee25c-251f-4cbf-af3d-a1d5521081b9",
          "prev": "eb43fa9f-eb7c-417b-ab1a-99371ff452e2",
          "regions": {
            "2e1a7b46-c253-4096-a0a5-dfbc6cfb086e": {
              "attrs": {
                "height": 0.8,
                "width": 0.8,
                "x": 0.1,
                "y": 0.1
              },
              "content": {
                "cell": "bf40e897-f1f8-4e69-b826-fe53fb761aad",
                "part": "whole"
              },
              "id": "2e1a7b46-c253-4096-a0a5-dfbc6cfb086e"
            }
          }
        },
        "37c43f64-6426-4a98-8de1-a6ca1dd72190": {
          "id": "37c43f64-6426-4a98-8de1-a6ca1dd72190",
          "prev": "d2b700ea-e44e-4bed-9ce4-ddf1532b44cb",
          "regions": {
            "45a20e24-b33f-4c55-8df2-e96075b5e2af": {
              "attrs": {
                "height": 0.8,
                "width": 0.8,
                "x": 0.1,
                "y": 0.1
              },
              "content": {
                "cell": "e730e690-97c9-4acd-bf81-4c5ab0bbd48e",
                "part": "whole"
              },
              "id": "45a20e24-b33f-4c55-8df2-e96075b5e2af"
            }
          }
        },
        "5bf0841a-23d1-413e-a557-911111e3e336": {
          "id": "5bf0841a-23d1-413e-a557-911111e3e336",
          "prev": "ebd3a807-2380-4bd6-8e58-c9424f3ed713",
          "regions": {
            "3c8adac9-5366-49e9-96ab-965c77e83485": {
              "attrs": {
                "height": 0.8,
                "width": 0.8,
                "x": 0.1,
                "y": 0.1
              },
              "content": {
                "cell": "2e08a439-2699-4ecf-9189-dfbbf745ad4e",
                "part": "whole"
              },
              "id": "3c8adac9-5366-49e9-96ab-965c77e83485"
            }
          }
        },
        "60ffd9bc-f20d-41e5-8771-5f11695177c6": {
          "id": "60ffd9bc-f20d-41e5-8771-5f11695177c6",
          "prev": "97575fe4-de27-4833-b616-7479f99519d0",
          "regions": {
            "807a955a-60c8-4f03-8734-54dfd52113d6": {
              "attrs": {
                "height": 0.8,
                "width": 0.8,
                "x": 0.1,
                "y": 0.1
              },
              "content": {
                "cell": "795c8121-f820-4edc-aeba-fc399b38f4b2",
                "part": "whole"
              },
              "id": "807a955a-60c8-4f03-8734-54dfd52113d6"
            }
          }
        },
        "623d8bc9-43df-451f-b862-76c2b54708ea": {
          "id": "623d8bc9-43df-451f-b862-76c2b54708ea",
          "prev": "eded54a5-7710-4ab6-8229-3ca4029d1ae7",
          "regions": {
            "42b1d4d4-2905-454b-b564-92f58dec8f81": {
              "attrs": {
                "height": 0.8,
                "width": 0.8,
                "x": 0.1,
                "y": 0.1
              },
              "content": {
                "cell": "16fd05b0-8ac8-4da2-8980-54d0d253d110",
                "part": "whole"
              },
              "id": "42b1d4d4-2905-454b-b564-92f58dec8f81"
            }
          }
        },
        "6dabcfe1-1c90-4893-8f01-c39e431f00bb": {
          "id": "6dabcfe1-1c90-4893-8f01-c39e431f00bb",
          "prev": "37c43f64-6426-4a98-8de1-a6ca1dd72190",
          "regions": {
            "1126b4c4-7df3-4db1-962b-abe099db9928": {
              "attrs": {
                "height": 0.8,
                "width": 0.8,
                "x": 0.1,
                "y": 0.1
              },
              "content": {
                "cell": "54519c05-1028-4e5c-a2d2-e21f821e99aa",
                "part": "whole"
              },
              "id": "1126b4c4-7df3-4db1-962b-abe099db9928"
            }
          }
        },
        "91753ba8-05fe-465f-806d-0faf4a21a031": {
          "id": "91753ba8-05fe-465f-806d-0faf4a21a031",
          "prev": "5bf0841a-23d1-413e-a557-911111e3e336",
          "regions": {
            "eb271beb-70d0-452e-b896-43695be4ae85": {
              "attrs": {
                "height": 0.8,
                "width": 0.8,
                "x": 0.1,
                "y": 0.1
              },
              "content": {
                "cell": "31cc3d04-22a5-4773-b4e1-abfb09f8bbc2",
                "part": "whole"
              },
              "id": "eb271beb-70d0-452e-b896-43695be4ae85"
            }
          }
        },
        "97575fe4-de27-4833-b616-7479f99519d0": {
          "id": "97575fe4-de27-4833-b616-7479f99519d0",
          "prev": "b8aebb38-1266-40c2-928a-026f9d33ec5c",
          "regions": {
            "01deb5d1-73e8-4d64-b93e-e7646647af3b": {
              "attrs": {
                "height": 0.8,
                "width": 0.8,
                "x": 0.1,
                "y": 0.1
              },
              "content": {
                "cell": "7f2bdffe-4f2a-446b-8805-d4fd262fced1",
                "part": "whole"
              },
              "id": "01deb5d1-73e8-4d64-b93e-e7646647af3b"
            }
          }
        },
        "9cc88d72-9ac9-4c24-96d5-abc94cea6e92": {
          "id": "9cc88d72-9ac9-4c24-96d5-abc94cea6e92",
          "prev": "1ffee25c-251f-4cbf-af3d-a1d5521081b9",
          "regions": {
            "78febecd-5100-493b-8f0d-0cc35ceae42e": {
              "attrs": {
                "height": 0.8,
                "width": 0.8,
                "x": 0.1,
                "y": 0.1
              },
              "content": {
                "cell": "bef00443-818c-4614-aa63-8a2e117462ec",
                "part": "whole"
              },
              "id": "78febecd-5100-493b-8f0d-0cc35ceae42e"
            }
          }
        },
        "a5df524d-67a8-4ae1-8258-9231728bdd14": {
          "id": "a5df524d-67a8-4ae1-8258-9231728bdd14",
          "prev": "623d8bc9-43df-451f-b862-76c2b54708ea",
          "regions": {
            "68e876ca-f943-4b2e-8268-439db992b310": {
              "attrs": {
                "height": 0.8,
                "width": 0.8,
                "x": 0.1,
                "y": 0.1
              },
              "content": {
                "cell": "40af6766-3ae3-4acc-8417-439eb8968553",
                "part": "whole"
              },
              "id": "68e876ca-f943-4b2e-8268-439db992b310"
            }
          }
        },
        "b62355d8-8b93-4dfc-8016-6548952c0f8c": {
          "id": "b62355d8-8b93-4dfc-8016-6548952c0f8c",
          "prev": "f59840cf-124e-4d10-8b89-3aafe98f38ba",
          "regions": {
            "381cc6bd-bde3-4d58-8277-99fbd69c7a4f": {
              "attrs": {
                "height": 0.8,
                "width": 0.8,
                "x": 0.1,
                "y": 0.1
              },
              "content": {
                "cell": "b92c1827-c799-44b9-b770-f45e95c917da",
                "part": "whole"
              },
              "id": "381cc6bd-bde3-4d58-8277-99fbd69c7a4f"
            }
          }
        },
        "b8aebb38-1266-40c2-928a-026f9d33ec5c": {
          "id": "b8aebb38-1266-40c2-928a-026f9d33ec5c",
          "prev": "9cc88d72-9ac9-4c24-96d5-abc94cea6e92",
          "regions": {
            "1bc2d24e-0782-443b-83a4-bc683c5ac6cb": {
              "attrs": {
                "height": 0.8,
                "width": 0.8,
                "x": 0.1,
                "y": 0.1
              },
              "content": {
                "cell": "cbb3d96a-fdd6-436e-86b6-1be446b43e84",
                "part": "whole"
              },
              "id": "1bc2d24e-0782-443b-83a4-bc683c5ac6cb"
            }
          }
        },
        "d2b700ea-e44e-4bed-9ce4-ddf1532b44cb": {
          "id": "d2b700ea-e44e-4bed-9ce4-ddf1532b44cb",
          "prev": "a5df524d-67a8-4ae1-8258-9231728bdd14",
          "regions": {
            "474bc80d-f262-4e62-afae-4565c0979e03": {
              "attrs": {
                "height": 0.8,
                "width": 0.8,
                "x": 0.1,
                "y": 0.1
              },
              "content": {
                "cell": "a67001a3-e51e-4a22-bdcd-249cde5581c1",
                "part": "whole"
              },
              "id": "474bc80d-f262-4e62-afae-4565c0979e03"
            }
          }
        },
        "d989978f-1d85-4802-953f-0e82f1a0fd51": {
          "id": "d989978f-1d85-4802-953f-0e82f1a0fd51",
          "prev": null,
          "regions": {
            "e3ddb97a-209b-4c70-91d7-df0cadcefb0d": {
              "attrs": {
                "height": 0.8,
                "width": 0.8,
                "x": 0.1,
                "y": 0.1
              },
              "content": {
                "cell": "13101ac1-2637-4d0f-9f1f-cd32215b02c3",
                "part": "whole"
              },
              "id": "e3ddb97a-209b-4c70-91d7-df0cadcefb0d"
            }
          }
        },
        "eb43fa9f-eb7c-417b-ab1a-99371ff452e2": {
          "id": "eb43fa9f-eb7c-417b-ab1a-99371ff452e2",
          "prev": "b62355d8-8b93-4dfc-8016-6548952c0f8c",
          "regions": {
            "b9415d21-f857-4a93-a788-c7dc51dedea0": {
              "attrs": {
                "height": 0.8,
                "width": 0.8,
                "x": 0.1,
                "y": 0.1
              },
              "content": {
                "cell": "e29b9590-fc86-46fd-83be-3ff48c7a8df4",
                "part": "whole"
              },
              "id": "b9415d21-f857-4a93-a788-c7dc51dedea0"
            }
          }
        },
        "ebd3a807-2380-4bd6-8e58-c9424f3ed713": {
          "id": "ebd3a807-2380-4bd6-8e58-c9424f3ed713",
          "prev": "f3fb61c6-f807-4942-8c41-0e80240a5146",
          "regions": {
            "7eaeb4e2-d47e-43e4-92c4-ed8cc1e9aac7": {
              "attrs": {
                "height": 0.8,
                "width": 0.8,
                "x": 0.1,
                "y": 0.1
              },
              "content": {
                "cell": "412353c7-42b2-42c7-8702-69568c809a97",
                "part": "whole"
              },
              "id": "7eaeb4e2-d47e-43e4-92c4-ed8cc1e9aac7"
            }
          }
        },
        "eded54a5-7710-4ab6-8229-3ca4029d1ae7": {
          "id": "eded54a5-7710-4ab6-8229-3ca4029d1ae7",
          "prev": "91753ba8-05fe-465f-806d-0faf4a21a031",
          "regions": {
            "816c3f73-4147-4cdb-b7d1-f5f82fa6003b": {
              "attrs": {
                "height": 0.8,
                "width": 0.8,
                "x": 0.1,
                "y": 0.1
              },
              "content": {
                "cell": "fa2d4b89-0d7a-41f1-8635-c5905d106cf3",
                "part": "whole"
              },
              "id": "816c3f73-4147-4cdb-b7d1-f5f82fa6003b"
            }
          }
        },
        "f3fb61c6-f807-4942-8c41-0e80240a5146": {
          "id": "f3fb61c6-f807-4942-8c41-0e80240a5146",
          "prev": "d989978f-1d85-4802-953f-0e82f1a0fd51",
          "regions": {
            "4f7abbfb-161b-44ce-bdab-05ef0b2a5542": {
              "attrs": {
                "height": 0.8,
                "width": 0.8,
                "x": 0.1,
                "y": 0.1
              },
              "content": {
                "cell": "8ce7bf3f-66e0-4462-a540-e87bceeadb7f",
                "part": "whole"
              },
              "id": "4f7abbfb-161b-44ce-bdab-05ef0b2a5542"
            }
          }
        },
        "f59840cf-124e-4d10-8b89-3aafe98f38ba": {
          "id": "f59840cf-124e-4d10-8b89-3aafe98f38ba",
          "prev": "6dabcfe1-1c90-4893-8f01-c39e431f00bb",
          "regions": {
            "e67fa4b9-f237-40ff-8621-fcdbfdd83101": {
              "attrs": {
                "height": 0.8,
                "width": 0.8,
                "x": 0.1,
                "y": 0.1
              },
              "content": {
                "cell": "4ae9a30c-81bc-4396-90d8-939a8e59f287",
                "part": "whole"
              },
              "id": "e67fa4b9-f237-40ff-8621-fcdbfdd83101"
            }
          }
        }
      },
      "themes": {
        "default": "c04eebe0-c348-41e9-bcfb-a65d4bd126df",
        "theme": {
          "c04eebe0-c348-41e9-bcfb-a65d4bd126df": {
            "id": "c04eebe0-c348-41e9-bcfb-a65d4bd126df",
            "palette": {
              "19cc588f-0593-49c9-9f4b-e4d7cc113b1c": {
                "id": "19cc588f-0593-49c9-9f4b-e4d7cc113b1c",
                "rgb": [
                  252,
                  252,
                  252
                ]
              },
              "31af15d2-7e15-44c5-ab5e-e04b16a89eff": {
                "id": "31af15d2-7e15-44c5-ab5e-e04b16a89eff",
                "rgb": [
                  68,
                  68,
                  68
                ]
              },
              "50f92c45-a630-455b-aec3-788680ec7410": {
                "id": "50f92c45-a630-455b-aec3-788680ec7410",
                "rgb": [
                  155,
                  177,
                  192
                ]
              },
              "c5cc3653-2ee1-402a-aba2-7caae1da4f6c": {
                "id": "c5cc3653-2ee1-402a-aba2-7caae1da4f6c",
                "rgb": [
                  43,
                  126,
                  184
                ]
              },
              "efa7f048-9acb-414c-8b04-a26811511a21": {
                "id": "efa7f048-9acb-414c-8b04-a26811511a21",
                "rgb": [
                  25.118061674008803,
                  73.60176211453744,
                  107.4819383259912
                ]
              }
            },
            "rules": {
              "blockquote": {
                "color": "50f92c45-a630-455b-aec3-788680ec7410"
              },
              "code": {
                "font-family": "Anonymous Pro"
              },
              "h1": {
                "color": "c5cc3653-2ee1-402a-aba2-7caae1da4f6c",
                "font-family": "Lato",
                "font-size": 8
              },
              "h2": {
                "color": "c5cc3653-2ee1-402a-aba2-7caae1da4f6c",
                "font-family": "Lato",
                "font-size": 6
              },
              "h3": {
                "color": "50f92c45-a630-455b-aec3-788680ec7410",
                "font-family": "Lato",
                "font-size": 5.5
              },
              "h4": {
                "color": "c5cc3653-2ee1-402a-aba2-7caae1da4f6c",
                "font-family": "Lato",
                "font-size": 5
              },
              "h5": {
                "font-family": "Lato"
              },
              "h6": {
                "font-family": "Lato"
              },
              "h7": {
                "font-family": "Lato"
              },
              "pre": {
                "font-family": "Anonymous Pro",
                "font-size": 4
              }
            },
            "text-base": {
              "font-family": "Merriweather",
              "font-size": 4
            }
          },
          "f0b95bb9-67a7-4d14-bf09-657a5b556dbe": {
            "id": "f0b95bb9-67a7-4d14-bf09-657a5b556dbe",
            "palette": {
              "19cc588f-0593-49c9-9f4b-e4d7cc113b1c": {
                "id": "19cc588f-0593-49c9-9f4b-e4d7cc113b1c",
                "rgb": [
                  252,
                  252,
                  252
                ]
              },
              "31af15d2-7e15-44c5-ab5e-e04b16a89eff": {
                "id": "31af15d2-7e15-44c5-ab5e-e04b16a89eff",
                "rgb": [
                  68,
                  68,
                  68
                ]
              },
              "50f92c45-a630-455b-aec3-788680ec7410": {
                "id": "50f92c45-a630-455b-aec3-788680ec7410",
                "rgb": [
                  155,
                  177,
                  192
                ]
              },
              "c5cc3653-2ee1-402a-aba2-7caae1da4f6c": {
                "id": "c5cc3653-2ee1-402a-aba2-7caae1da4f6c",
                "rgb": [
                  43,
                  126,
                  184
                ]
              },
              "efa7f048-9acb-414c-8b04-a26811511a21": {
                "id": "efa7f048-9acb-414c-8b04-a26811511a21",
                "rgb": [
                  25.118061674008803,
                  73.60176211453744,
                  107.4819383259912
                ]
              }
            },
            "rules": {
              "blockquote": {
                "color": "50f92c45-a630-455b-aec3-788680ec7410"
              },
              "code": {
                "font-family": "Anonymous Pro"
              },
              "h1": {
                "color": "c5cc3653-2ee1-402a-aba2-7caae1da4f6c",
                "font-family": "Lato",
                "font-size": 8
              },
              "h2": {
                "color": "c5cc3653-2ee1-402a-aba2-7caae1da4f6c",
                "font-family": "Lato",
                "font-size": 6
              },
              "h3": {
                "color": "50f92c45-a630-455b-aec3-788680ec7410",
                "font-family": "Lato",
                "font-size": 5.5
              },
              "h4": {
                "color": "c5cc3653-2ee1-402a-aba2-7caae1da4f6c",
                "font-family": "Lato",
                "font-size": 5
              },
              "h5": {
                "font-family": "Lato"
              },
              "h6": {
                "font-family": "Lato"
              },
              "h7": {
                "font-family": "Lato"
              },
              "pre": {
                "font-family": "Anonymous Pro",
                "font-size": 4
              }
            },
            "text-base": {
              "font-family": "Merriweather",
              "font-size": 4
            }
          }
        }
      }
    }
  },
  "nbformat": 4,
  "nbformat_minor": 0
}