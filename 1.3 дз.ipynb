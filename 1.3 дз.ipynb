{
 "cells": [
  {
   "cell_type": "code",
   "execution_count": 2,
   "id": "579022ad-2f91-4ff1-9dc4-3106b6127da8",
   "metadata": {},
   "outputs": [
    {
     "name": "stdout",
     "output_type": "stream",
     "text": [
      "Выборочная дисперсия для х:  10.0\n",
      "Выборочная дисперсия для y:  3.7501745351239677\n",
      "Коэффициент корреляции:  0.81636624276147\n"
     ]
    },
    {
     "data": {
      "image/png": "[encoded data removed]",
      "text/plain": [
       "<Figure size 640x480 with 1 Axes>"
      ]
     },
     "metadata": {},
     "output_type": "display_data"
    }
   ],
   "source": [
    "import seaborn\n",
    "import numpy as np\n",
    "import matplotlib.pyplot as plt\n",
    "a = seaborn.load_dataset('anscombe')\n",
    "x = a.x\n",
    "print('Выборочная дисперсия для х: ', np.var(x))\n",
    "y = a.y\n",
    "print('Выборочная дисперсия для y: ', np.var(y))\n",
    "print('Коэффициент корреляции: ', np.corrcoef(x, y)[0,1])\n",
    "a1 = a.loc[a['dataset'] == \"I\"]\n",
    "a2 = a.loc[a['dataset'] == \"II\"]\n",
    "a3 = a.loc[a['dataset'] == \"III\"]\n",
    "a4 = a.loc[a['dataset'] == \"IV\"]\n",
    "plt.scatter(a1.x,a1.y,label='I')\n",
    "plt.scatter(a2.x,a2.y,label='II')\n",
    "plt.scatter(a3.x,a3.y,label='III')\n",
    "plt.scatter(a4.x,a4.y,label='IV')\n",
    "\n",
    "plt.legend()\n",
    "plt.show()"
   ]
  },
  {
   "cell_type": "code",
   "execution_count": 4,
   "id": "91933961-e7c6-434b-aa4e-f73191f31539",
   "metadata": {},
   "outputs": [
    {
     "name": "stdout",
     "output_type": "stream",
     "text": [
      "Способ 1: \n",
      " [[10.61362469  4.88168186 -0.18531112  5.46423202]\n",
      " [ 4.88168186  5.54900801  2.09728968  4.89471946]\n",
      " [-0.18531112  2.09728968  6.07726141  5.59469681]\n",
      " [ 5.46423202  4.89471946  5.59469681 11.15720699]]\n",
      "Способ 2: \n",
      " [[10.61362469  4.88168186 -0.18531112  5.46423202]\n",
      " [ 4.88168186  5.54900801  2.09728968  4.89471946]\n",
      " [-0.18531112  2.09728968  6.07726141  5.59469681]\n",
      " [ 5.46423202  4.89471946  5.59469681 11.15720699]]\n"
     ]
    }
   ],
   "source": [
    "import numpy as np\n",
    "\n",
    "m = 6\n",
    "n = 4\n",
    "A = np.random.random(size=(m, n))\n",
    "means = np.mean(A, axis=0)\n",
    "A = A-means\n",
    "print('Способ 1: \\n', np.linalg.inv(A.T @ A))\n",
    "A = np.concatenate((A, np.array([np.ones(m)]).T), axis=1)\n",
    "print('Способ 2: \\n', np.delete(np.delete(np.linalg.inv(A.T @ A), n, axis=1), n, axis=0))"
   ]
  },
  {
   "cell_type": "code",
   "execution_count": 12,
   "id": "cdb04620-c970-451a-82e6-9b996a580b83",
   "metadata": {},
   "outputs": [
    {
     "name": "stdout",
     "output_type": "stream",
     "text": [
      "Стандартный метод для H8: \n",
      " [ 6.40000004e+01 -2.01600002e+03  2.01600002e+04 -9.24000008e+04\n",
      "  2.21760002e+05 -2.88288002e+05  1.92192002e+05 -5.14800004e+04]\n",
      "Через сингулярное разложение для H8: \n",
      " [ 3.71767127e+08 -1.99828526e+10  2.61537300e+11 -1.41810044e+12\n",
      "  3.82410920e+12 -5.41852434e+12  3.86074809e+12 -1.09043377e+12]\n",
      "Стандартный метод для H10: \n",
      " [ 9.99977546e+01 -4.94980512e+03  7.91958367e+04 -6.00562070e+05\n",
      "  2.52233880e+06 -6.30580129e+06  9.60878102e+06 -8.75080799e+06\n",
      "  4.37538396e+06 -9.23688464e+05]\n",
      "Через сингулярное разложение для H10: \n",
      " [-2.50193935e+09  1.16360045e+11 -1.28892158e+12  5.55569756e+12\n",
      " -9.98734206e+12  3.49309265e+12  1.16726497e+13 -1.46523421e+13\n",
      "  4.93597376e+12  1.59042010e+11]\n"
     ]
    }
   ],
   "source": [
    "import numpy as np\n",
    "\n",
    "n = 8\n",
    "H8 = np.zeros((n,n))\n",
    "for i in range (1,n+1):\n",
    "  for j in range (1,n+1):\n",
    "    H8[i-1,j-1]=1/(i+j-1)\n",
    "b8 = np.array([1,0,0,0,0,0,0,0])\n",
    "print('Стандартный метод для H8: \\n', np.linalg.solve(H8, b8))\n",
    "u, s, v = np.linalg.svd(H8)\n",
    "s[(s < 10**(-8))] = 0\n",
    "sing = np.eye(n)\n",
    "sing[(sing > 0)] = s\n",
    "H8_1 = (u @ sing) @ v\n",
    "print('Через сингулярное разложение для H8: \\n', np.linalg.solve(H8_1, b8))\n",
    "\n",
    "n = 10\n",
    "H10 = np.zeros((n,n))\n",
    "for i in range (1,n+1):\n",
    "  for j in range (1,n+1):\n",
    "    H10[i-1,j-1]=1/(i+j-1)\n",
    "b10 = np.array([1,0,0,0,0,0,0,0,0,0])\n",
    "print('Стандартный метод для H10: \\n', np.linalg.solve(H10, b10))\n",
    "u, s, v = np.linalg.svd(H10)\n",
    "s[(s < 10**(-8))] = 0\n",
    "sing = np.eye(n)\n",
    "sing[(sing > 0)] = s\n",
    "H10_1 = (u @ sing) @ v\n",
    "print('Через сингулярное разложение для H10: \\n', np.linalg.solve(H10_1, b10))"
   ]
  },
  {
   "cell_type": "code",
   "execution_count": null,
   "id": "7d2f1a63-075e-4ad0-86e1-8dd33ad4f7e4",
   "metadata": {},
   "outputs": [],
   "source": []
  }
 ],
 "metadata": {
  "kernelspec": {
   "display_name": "Python 3 (ipykernel)",
   "language": "python",
   "name": "python3"
  },
  "language_info": {
   "codemirror_mode": {
    "name": "ipython",
    "version": 3
   },
   "file_extension": ".py",
   "mimetype": "text/x-python",
   "name": "python",
   "nbconvert_exporter": "python",
   "pygments_lexer": "ipython3",
   "version": "3.11.7"
  }
 },
 "nbformat": 4,
 "nbformat_minor": 5
}
