{
 "cells": [
  {
   "cell_type": "markdown",
   "metadata": {},
   "source": [
    "Рассчитать с машинной точностью интеграл с неопределенностью \n",
    "$$\n",
    "    \\int\\limits_{-1}^1 \\frac{\\sin(x/2)}{e^x-1} dx\n",
    "$$\n",
    " квадратурой на разностных схемах."
   ]
  },
  {
   "cell_type": "code",
   "execution_count": 5,
   "metadata": {},
   "outputs": [],
   "source": [
    "from decimal import Decimal, getcontext\n",
    "import math\n",
    "from functools import lru_cache\n",
    "\n",
    "###############################################################################\n",
    "#  1) Вспомогательные функции для разностных квадратур                        #\n",
    "###############################################################################\n",
    "getcontext().prec = 100  # повышенная точность для Decimal\n",
    "\n",
    "@lru_cache(None)\n",
    "def factorial_dec(n: int) -> Decimal:\n",
    "    if n < 0:\n",
    "        raise ValueError(\"Negative factorial not defined\")\n",
    "    if n == 0 or n == 1:\n",
    "        return Decimal(1)\n",
    "    return Decimal(n) * factorial_dec(n - 1)\n",
    "\n",
    "@lru_cache(None)\n",
    "def comb_dec(n: int, k: int) -> Decimal:\n",
    "    if k < 0 or k > n:\n",
    "        return Decimal(0)\n",
    "    return factorial_dec(n) / (factorial_dec(k) * factorial_dec(n - k))\n",
    "\n",
    "@lru_cache(None)\n",
    "def D(n: int, j: int) -> Decimal:\n",
    "    \"\"\"\n",
    "    Вычисляет D_n^(j) по заданной рекуррентной формуле (см. теорию).\n",
    "    \"\"\"\n",
    "    if j == 0:\n",
    "        return Decimal(1)\n",
    "    # \"прогреваем\" кэш:\n",
    "    _ = D(n, j-1)\n",
    "    return _compute_all_D_up_to(n, j)[j]\n",
    "\n",
    "@lru_cache(None)\n",
    "def _compute_all_D_up_to(n: int, J: int):\n",
    "    results = [Decimal(0)]*(J+1)\n",
    "    results[0] = Decimal(1)\n",
    "    for j in range(J):\n",
    "        s = Decimal(0)\n",
    "        for k in range(n + 2*j + 1):\n",
    "            for l in range(j+1):\n",
    "                val = (\n",
    "                    Decimal((-1)**k)\n",
    "                    * results[l]\n",
    "                    * comb_dec(n+2*l, k - (j - l))\n",
    "                    * Decimal((n + 2*j - 2*k)**(n + 2*j + 2))\n",
    "                    / (Decimal(2)**(n + 2*j + 2) * factorial_dec(n + 2*j + 2))\n",
    "                )\n",
    "                s += val\n",
    "        # Финальная формула берёт только s, без + results[j].\n",
    "        results[j+1] = s\n",
    "    return results\n",
    "\n",
    "@lru_cache(None)\n",
    "def A(k: int, n: int, m: int) -> Decimal:\n",
    "    \"\"\"\n",
    "    A_{k,n}^m = sum_{l=0}^m [ (-1)^(k-m) * D_n^(l) * C_{n+2l}^{k - m + l} ].\n",
    "    \"\"\"\n",
    "    s = Decimal(0)\n",
    "    sign = Decimal((-1)**(k - m))\n",
    "    for l in range(m+1):\n",
    "        s += (\n",
    "            sign\n",
    "            * D(n, l)\n",
    "            * comb_dec(n+2*l, k - m + l)\n",
    "        )\n",
    "    return s\n",
    "\n",
    "@lru_cache(None)\n",
    "def W_list(m: int):\n",
    "    \"\"\"\n",
    "    Коэффициенты W_k^m (k=0..2m) в Decimal.\n",
    "\n",
    "      W_k^m = sum_{n=0}^m [ A_{k,2n}^{m-n} / (2^(2n)*(2n+1)!) ].\n",
    "    \"\"\"\n",
    "    result = []\n",
    "    for k in range(2*m + 1):\n",
    "        s = Decimal(0)\n",
    "        for n_ in range(m+1):\n",
    "            a_val = A(k, 2*n_, m - n_)\n",
    "            denom = (Decimal(2)**(2*n_) * factorial_dec(2*n_+1))\n",
    "            s += a_val / denom\n",
    "        result.append(s)\n",
    "    return result\n",
    "\n",
    "def build_function_values_diff_scheme(f, a: float, b: float, J: int, m: int):\n",
    "    \"\"\"\n",
    "    Центральная сетка: x_j = a + (j+0.5)*h, j=-m..(J-1+m).\n",
    "    Возвращает (y_values, h, calls).\n",
    "    \"\"\"\n",
    "    h = (b - a)/J\n",
    "    values = []\n",
    "    for j_real in range(-m, (J - 1) + m + 1):\n",
    "        x_val = a + (j_real + 0.5)*h\n",
    "        values.append(f(x_val))\n",
    "    calls = len(values)\n",
    "    return values, h, calls\n",
    "\n",
    "def integrate_by_diff_scheme(f, a: float, b: float, J: int, m: int):\n",
    "    \"\"\"\n",
    "    Разностная (дифференсная) квадратура порядка 2m:\n",
    "      ∫[a..b] f(x) dx ≈ h Σ_j Σ_k [ W_{m-k} * f( x_{j+k} ) ].\n",
    "    Возвращает (approx, calls).\n",
    "    \"\"\"\n",
    "    y_values, h, calls = build_function_values_diff_scheme(f, a, b, J, m)\n",
    "    W_dec = W_list(m)\n",
    "    W = [float(wd) for wd in W_dec]\n",
    "    \n",
    "    offset = m\n",
    "    total_sum = 0.0\n",
    "    for j in range(J):\n",
    "        loc_sum = 0.0\n",
    "        for k in range(-m, m+1):\n",
    "            idx = (j + k) + offset\n",
    "            loc_sum += W[m - k] * y_values[idx]\n",
    "        total_sum += loc_sum\n",
    "    return (h * total_sum, calls)"
   ]
  },
  {
   "cell_type": "code",
   "execution_count": null,
   "metadata": {},
   "outputs": [],
   "source": [
    "def f1(x):\n",
    "  return np.sin(x/2)/(np.exp(x)-1)\n",
    "\n",
    "exact_val_1 = 1.01303923623262610131 # Из вольфрама с запасом (машиной считаются только первые 16 цифр)"
   ]
  },
  {
   "cell_type": "code",
   "execution_count": null,
   "metadata": {},
   "outputs": [
    {
     "name": "stdout",
     "output_type": "stream",
     "text": [
      "--- m=3 ---\n",
      " J=2, calls= 8 | DiffScheme=1.01303490, err=4.34e-06 | \n",
      " J=4, calls=10 | DiffScheme=1.01303922, err=1.96e-08 | \n",
      " J=8, calls=14 | DiffScheme=1.01303924, err=7.95e-11 | \n",
      " J=16, calls=22 | DiffScheme=1.01303924, err=3.14e-13 | \n",
      " J=24, calls=30 | DiffScheme=1.01303924, err=1.22e-14 | \n",
      "\n",
      "--- m=4 ---\n",
      " J=2, calls=10 | DiffScheme=1.01303816, err=1.07e-06 | \n",
      " J=4, calls=12 | DiffScheme=1.01303923, err=1.45e-09 | \n",
      " J=8, calls=16 | DiffScheme=1.01303924, err=1.54e-12 | \n",
      " J=16, calls=24 | DiffScheme=1.01303924, err=1.33e-15 | \n",
      " J=24, calls=32 | DiffScheme=1.01303924, err=2.22e-16 | \n",
      "\n",
      "--- m=5 ---\n",
      " J=2, calls=12 | DiffScheme=1.01303887, err=3.65e-07 | \n",
      " J=4, calls=14 | DiffScheme=1.01303924, err=1.58e-10 | \n",
      " J=8, calls=18 | DiffScheme=1.01303924, err=4.49e-14 | \n",
      " J=16, calls=26 | DiffScheme=1.01303924, err=2.22e-16 | \n",
      " J=24, calls=34 | DiffScheme=1.01303924, err=0.00e+00 | \n",
      "\n",
      "--- m=6 ---\n",
      " J=2, calls=14 | DiffScheme=1.01303908, err=1.54e-07 | \n",
      " J=4, calls=16 | DiffScheme=1.01303924, err=2.27e-11 | \n",
      " J=8, calls=20 | DiffScheme=1.01303924, err=1.55e-15 | \n",
      " J=16, calls=28 | DiffScheme=1.01303924, err=0.00e+00 | \n",
      " J=24, calls=36 | DiffScheme=1.01303924, err=2.22e-16 | \n",
      "\n",
      "--- m=7 ---\n",
      " J=2, calls=16 | DiffScheme=1.01303916, err=7.62e-08 | \n",
      " J=4, calls=18 | DiffScheme=1.01303924, err=3.96e-12 | \n",
      " J=8, calls=22 | DiffScheme=1.01303924, err=0.00e+00 | \n",
      " J=16, calls=30 | DiffScheme=1.01303924, err=0.00e+00 | \n",
      " J=24, calls=38 | DiffScheme=1.01303924, err=0.00e+00 | \n",
      "\n",
      "--- m=9 ---\n",
      " J=2, calls=20 | DiffScheme=1.01303921, err=2.54e-08 | \n",
      " J=4, calls=22 | DiffScheme=1.01303924, err=1.55e-13 | \n",
      " J=8, calls=26 | DiffScheme=1.01303924, err=2.22e-16 | \n",
      " J=16, calls=34 | DiffScheme=1.01303924, err=2.22e-16 | \n",
      " J=24, calls=42 | DiffScheme=1.01303924, err=0.00e+00 | \n",
      "\n"
     ]
    }
   ],
   "source": [
    "diff_approx, diff_calls = integrate_by_diff_scheme(f1, -1, 1, 8, 3)\n",
    "diff_err = abs(diff_approx - exact_val_1)\n",
    "for m in [3, 4, 5, 6, 7, 9]:\n",
    "    print(f\"--- m={m} ---\")\n",
    "    for J in [2, 4, 8, 16, 24]:\n",
    "        diff_approx, diff_calls = integrate_by_diff_scheme(f1, -1, 1, J, m)\n",
    "        diff_err = abs(diff_approx - exact_val_1)\n",
    "\n",
    "        print(f\" J={J}, calls={diff_calls:2d} | \"\n",
    "                f\"DiffScheme={diff_approx:.8f}, err={diff_err:.2e} | \")\n",
    "    print()"
   ]
  },
  {
   "cell_type": "markdown",
   "metadata": {},
   "source": [
    "# Задача 2.\n",
    "Используя методику прямой сшивки при взятии сумм рядов, рассчитать постоянную $\\gamma_E$ Эйлера-Маскерони с ошибкой в 13 знаке по формуле\n",
    "$$\n",
    "    \\gamma_E = \\lim\\limits_{n \\rightarrow \\infty} \\left( 1 + \\frac{1}{2} + ... \\frac{1}{n} - \\ln n \\right).\n",
    "$$"
   ]
  },
  {
   "cell_type": "markdown",
   "metadata": {},
   "source": [
    "По теорме о быстром вычислении большой суммы плавной последовательности\n",
    "$$\n",
    "    \\gamma_E^n = \\sum\\limits_{j = 0}^{n-1} \\frac{1}{j+1} - \\ln n = \\int\\limits_{j_m + 1/2}^{n - 1/2} \\frac{dj}{j+1} + \\sum\\limits_{j = 0}^{j_m -m} \\frac{1}{j+1} - \\sum\\limits_{j = n}^{n + m - 1} \\frac{1}{j+1} + \\sum\\limits_{j = j_m - m + 1}^{j_m + m} (1 - I_{j + m - j_m - 1}^m) \\frac{1}{j+1} + \\sum\\limits_{j = n-m}^{n+m-1} I_{j+m-n}^m \\frac{1}{j+1} - \\ln n + O(1 / j_s^{2m + 2}) =\n",
    "$$\n",
    "$$\n",
    "    = \\ln \\left(\\frac{n+1/2}{n} \\right) - \\ln(j_m + 3/2) + \\sum\\limits_{j = 1}^{j_m -m + 1} \\frac{1}{j} - \\sum\\limits_{j = n + 1}^{n + m} \\frac{1}{j} + \\sum\\limits_{j = j_m - m + 2}^{j_m + m + 1} (1 - I_{j + m - j_m - 2}^m) \\frac{1}{j} + \\sum\\limits_{j = n-m + 1}^{n+m} I_{j+m-n - 1}^m \\frac{1}{j} + O(1 / j_s^{2m + 2}).\n",
    "$$\n",
    "\n",
    "Что при $n \\rightarrow \\infty$ равно\n",
    "$$\n",
    "    \\gamma_E = - \\ln(j_m + 3/2) + \\sum\\limits_{j = 1}^{j_m -m + 1} \\frac{1}{j} + \\sum\\limits_{j = j_m - m + 2}^{j_m + m + 1} (1 - I_{j + m - j_m - 2}^m) \\frac{1}{j} + O(1 / j_s^{2m + 2}).\n",
    "$$\n",
    "\n",
    "Здесь $m = 7$ -- задает точность вычисления, $j_m$ -- количество членов, которые мы готовы суммировать, после начинается переход к интеграллу, $j_s$ задается условием:\n",
    "$$\n",
    "    \\text{Пусть $\\varepsilon$ -- точность, тогда } \\forall j \\geq j_m \\text{ должно существовать } j_s: \\forall i \\in [j, j+j_s] \\rightarrow |\\frac{a_i}{a_j} - 1| < \\varepsilon \\Leftrightarrow j_s < \\frac{\\varepsilon}{1 - \\varepsilon} \\cdot j_m \\Rightarrow j_m \\gg j_s.\n",
    "$$\n",
    "\n",
    "По условию нужно, чтобы $1 / j_s^{2m + 2} \\ll 10^{-13}$. Тогда, если $m = 7$, получим $j_s \\gg 7$. Получаем $j_m \\gg 7$, ну там $j_m = 100000$."
   ]
  },
  {
   "cell_type": "code",
   "execution_count": null,
   "metadata": {},
   "outputs": [],
   "source": [
    "def I(m: int, l: int):\n",
    "    W = W_list(m)\n",
    "    result = 0\n",
    "    for k in range(l+1):\n",
    "        result += W[2*m - k]\n",
    "    return result"
   ]
  },
  {
   "cell_type": "code",
   "execution_count": 32,
   "metadata": {},
   "outputs": [],
   "source": [
    "import numpy as np"
   ]
  },
  {
   "cell_type": "code",
   "execution_count": 36,
   "metadata": {},
   "outputs": [
    {
     "name": "stdout",
     "output_type": "stream",
     "text": [
      "gamma_E = 0.5772156649014419 , error = -9.092726571680032e-14\n"
     ]
    }
   ],
   "source": [
    "j_m = 100000\n",
    "m=7\n",
    "\n",
    "sum1 = 0\n",
    "for j in range(1, j_m-m+1 + 1):\n",
    "    sum1 += 1. / j\n",
    "\n",
    "\n",
    "sum2 = 0\n",
    "for j in range(j_m-m+2, j_m+m+1 + 1):\n",
    "    sum2 += float(1 - I(m, j+m-j_m-2)) / float(j)\n",
    "\n",
    "print(\"gamma_E =\", -np.log(j_m+3/2) + sum1 + sum2, \", error =\", -np.log(j_m+3/2) + sum1 + sum2 - 0.57721566490153286060651209008240243104215933593992359880576723488486772677766467093694706329174674951463144724 )"
   ]
  },
  {
   "cell_type": "markdown",
   "metadata": {},
   "source": [
    "# Задача 3.\n",
    "Вычислить сумму ряда\n",
    "$$\n",
    "S = \\sum\\limits_{n=1}^\\infty \\frac{n^2+1}{n^4+n^2+1} \\cos(2n)\n",
    "$$\n",
    "с точностью $\\varepsilon = 10^{-6}$, применяя метод Куммера."
   ]
  },
  {
   "cell_type": "markdown",
   "metadata": {},
   "source": [
    "Решение буквально написано на сайте. Т.к. остаток этого ряда можно оценить как\n",
    "$$\n",
    "    |r_k| = |\\sum\\limits_{n=k+1}^\\infty \\frac{n^2+1}{n^4+n^2+1} \\cos(2n) | < \\sum\\limits_{n=k+1}^\\infty \\frac{n^2+1}{n^4+n^2} < \\sum\\limits_{n=k+1}^\\infty \\frac{1}{n^2} < \\int\\limits_{k+1}^\\infty \\frac{dx}{x^2} = \\frac{1}{k+1} < \\varepsilon = 10^{-6}.\n",
    "$$\n",
    "То необходимое число операции $k > 10^6$, что слишком много.\n",
    "\n",
    "Воспользуемся методом Куммера. Используя то, что\n",
    "$$\n",
    "    S' = \\sum\\limits_{n=1}^\\infty \\frac{\\cos(nx)}{n^2} = \\frac{\\pi^2}{6} - \\frac{\\pi x}{12} + \\frac{x^2}{4}\n",
    "$$\n",
    "при $x=2$.\n",
    "\n",
    "Тогда $\\gamma = \\lim\\limits_{n \\rightarrow \\infty} \\frac{a_n}{a_n'} = 1$.\n",
    "\n",
    "Представим ряд как\n",
    "$$\n",
    "    S = \\gamma S' + \\sum\\limits_{n=0}^\\infty (a_n - \\gamma a_n')= \\frac{\\pi^2}{6} - \\frac{\\pi}{6} + 1 + \\sum\\limits_{n=1}^\\infty \\left( \\frac{n^2+1}{n^4+n^2+1} - \\frac{1}{n^2} \\right) \\cos(2n) = \\frac{\\pi^2}{6} - \\frac{\\pi}{6} + 1 + \\sum\\limits_{n=1}^\\infty \\frac{\\cos(2n)}{n^2(n^4+n^2+1)}.\n",
    "$$\n",
    "\n",
    "Остаток ряда можно аналогично оценить как\n",
    "$$\n",
    "    |r_k'| < \\frac{1}{5(k+1)^5} < \\varepsilon = 10^{-6}.\n",
    "$$\n",
    "Получаем необходимо $k \\geq 12$."
   ]
  },
  {
   "cell_type": "code",
   "execution_count": 28,
   "metadata": {},
   "outputs": [
    {
     "data": {
      "text/plain": [
       "1.975942055783409"
      ]
     },
     "execution_count": 28,
     "metadata": {},
     "output_type": "execute_result"
    }
   ],
   "source": [
    "sum = np.pi ** 2 / 6 - np.pi / 6 + 1\n",
    "for n in range(1, 15):\n",
    "    sum += np.cos(2*n) / (n**2 * (n**4 + n**2 + 1))\n",
    "\n",
    "sum"
   ]
  },
  {
   "cell_type": "markdown",
   "metadata": {},
   "source": [
    "# Задача 4.  \n",
    "Взять предел\n",
    "$$\n",
    "    \\lim_{x \\rightarrow 0} \\frac{y(x) - 1}{x},\n",
    "$$\n",
    "где $y(x) = \\ch \\sqrt{x}$, если $x>0$, $y(x) = \\cos \\sqrt{-x}$, если $x<0$.\n",
    "\n",
    " \n",
    "  \n",
    "Поиграться с выбором шага."
   ]
  },
  {
   "cell_type": "markdown",
   "metadata": {},
   "source": [
    "Будем использовать формулу вычисления предела четной функции в нуле.\n",
    "\n",
    "Четность будем добиваться убиранием корневой особенности\n",
    "$$\n",
    "    \\lim\\limits_{x \\rightarrow 0} \\frac{y(x) - 1}{x} = \\lim\\limits_{\\xi \\rightarrow 0} \\frac{y(\\xi^2) - 1}{\\xi^2} = \\lim\\limits_{\\xi \\rightarrow 0} \\frac{\\ch \\sqrt{\\xi^2} - 1}{\\xi^2}\n",
    "$$"
   ]
  },
  {
   "cell_type": "code",
   "execution_count": null,
   "metadata": {},
   "outputs": [],
   "source": [
    "def y(x):\n",
    "    return np.cosh(x**0.5) if x > 0 else np.cos((-x)**0.5)\n",
    "\n",
    "def der_y(xi):\n",
    "    return (y(xi**2) - 1) / xi**2"
   ]
  },
  {
   "cell_type": "code",
   "execution_count": 21,
   "metadata": {},
   "outputs": [],
   "source": [
    "def Limit_in_zero(func, Delta_x:float, m:int, N: int):\n",
    "    result = 0\n",
    "    for n in range(N+1):\n",
    "        for k in range(2*m + n%2):\n",
    "            y = func(Delta_x * (1/2 + 2*m + n%2 - 2*k))\n",
    "            result += float(A(k, n, m - (n - n%2)//2)) * ( (-1)**n / (4**n * math.factorial(n)) ) * y\n",
    "    \n",
    "    return result"
   ]
  },
  {
   "cell_type": "code",
   "execution_count": 35,
   "metadata": {},
   "outputs": [],
   "source": [
    "def f(x):\n",
    "    return np.sin(x) * np.e / x"
   ]
  },
  {
   "cell_type": "code",
   "execution_count": 45,
   "metadata": {},
   "outputs": [
    {
     "data": {
      "text/plain": [
       "0.4999999961177398"
      ]
     },
     "execution_count": 45,
     "metadata": {},
     "output_type": "execute_result"
    }
   ],
   "source": [
    "Limit_in_zero(der_y, 1e-4, 9, 18)"
   ]
  },
  {
   "cell_type": "code",
   "execution_count": 50,
   "metadata": {},
   "outputs": [],
   "source": [
    "import matplotlib.pyplot as plt"
   ]
  },
  {
   "cell_type": "code",
   "execution_count": 62,
   "metadata": {},
   "outputs": [
    {
     "data": {
      "text/plain": [
       "Text(0, 0.5, '|result - 0.5|')"
      ]
     },
     "execution_count": 62,
     "metadata": {},
     "output_type": "execute_result"
    },
    {
     "data": {
      "image/png": "[encoded data removed]",
      "text/plain": [
       "<Figure size 640x480 with 1 Axes>"
      ]
     },
     "metadata": {},
     "output_type": "display_data"
    }
   ],
   "source": [
    "DELTA_X = np.logspace(-16, 1, 18)\n",
    "\n",
    "ERROR_OF_RESULT = []\n",
    "for delta_x in DELTA_X:\n",
    "    ERROR_OF_RESULT.append(np.abs(Limit_in_zero(der_y, delta_x, 9, 18) - 0.5))\n",
    "\n",
    "plt.plot(DELTA_X, ERROR_OF_RESULT)\n",
    "plt.xscale('log')\n",
    "plt.xlabel(\"log10(delta_x)\")\n",
    "plt.ylabel(\"|result - 0.5|\")"
   ]
  },
  {
   "cell_type": "code",
   "execution_count": 70,
   "metadata": {},
   "outputs": [
    {
     "data": {
      "text/plain": [
       "Text(0, 0.5, '|result - 0.5|')"
      ]
     },
     "execution_count": 70,
     "metadata": {},
     "output_type": "execute_result"
    },
    {
     "data": {
      "image/png": "[encoded data removed]",
      "text/plain": [
       "<Figure size 640x480 with 1 Axes>"
      ]
     },
     "metadata": {},
     "output_type": "display_data"
    }
   ],
   "source": [
    "DELTA_X = np.logspace(-5, 1.34, 100)\n",
    "\n",
    "ERROR_OF_RESULT = []\n",
    "for delta_x in DELTA_X:\n",
    "    ERROR_OF_RESULT.append(np.abs(Limit_in_zero(der_y, delta_x, 9, 18) - 0.5))\n",
    "\n",
    "plt.plot(DELTA_X, ERROR_OF_RESULT)\n",
    "plt.xscale('log')\n",
    "plt.xlabel(\"log10(delta_x)\")\n",
    "plt.ylabel(\"|result - 0.5|\")"
   ]
  },
  {
   "cell_type": "code",
   "execution_count": null,
   "metadata": {},
   "outputs": [],
   "source": []
  }
 ],
 "metadata": {
  "kernelspec": {
   "display_name": "Python 3",
   "language": "python",
   "name": "python3"
  },
  "language_info": {
   "codemirror_mode": {
    "name": "ipython",
    "version": 3
   },
   "file_extension": ".py",
   "mimetype": "text/x-python",
   "name": "python",
   "nbconvert_exporter": "python",
   "pygments_lexer": "ipython3",
   "version": "3.12.2"
  }
 },
 "nbformat": 4,
 "nbformat_minor": 2
}
