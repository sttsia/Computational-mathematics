{
 "cells": [
  {
   "cell_type": "markdown",
   "id": "73c6f025-826f-4916-b73e-90568ce918af",
   "metadata": {},
   "source": [
    "### 1. Генерация случайных величин с заранее заданной ковариационной матрицей.\n",
    "\n",
    "\n",
    "\n",
    "Разложение Холецкого используется для генерации коррелированных между собой случайных величин. Проще говоря, когда есть какой-то набор независимых случайных величин и ковариационная матрица. Как из этого получить набор случайных величин, имеющих такую ковариационную матрицу ?\n",
    "\n",
    "Это нужно как для моделирования случайных сигналов и физических процессов, так и в качестве вспомогательного элемента других вычислительных методов (Монте-Карло).\n",
    "Решение этой задачи делается с помощью разложения Холецкого. Алгоритм заключается в следующем:\n",
    "1. Осуществить разложение Холецкого ковариационной матрицы: $\\boldsymbol{\\Sigma}=\\mathbf{A} \\mathbf{A}^T$\n",
    "2. Сгенерировать случайный вектор $\\mathbf{z}$, компонентами которого являются независимые случайные величины с нормальным распределением\n",
    "\n",
    "3. Решением поставленной задачи будет вектор:\n",
    "$$\n",
    "\\mathbf{x}=\\mathbf{m}+\\mathbf{A} \\mathbf{z}\n",
    "$$\n",
    "Здесь $\\mathbf{m}$ - это постоянный вектор, составленный из математических ожиданий компонент вектора $\\mathbf{z}$.\n",
    "\n",
    "Напишите функцию, которая в качестве входного параметра берёт ковариационную матрицу, а возвращает набор случайных величин, действуя по описанному выше алгоритму."
   ]
  },
  {
   "cell_type": "code",
   "execution_count": 2,
   "id": "ef261902-5700-4301-8c21-385a4dc1695e",
   "metadata": {},
   "outputs": [
    {
     "name": "stdout",
     "output_type": "stream",
     "text": [
      "x =  [10.5891646  14.16904303 15.14818221 21.90123492 26.70236666 26.48918939\n",
      " 32.33756075 13.21793617 19.3304447  18.59662812]\n"
     ]
    }
   ],
   "source": [
    "import numpy as np\n",
    "\n",
    "n = 10\n",
    "B = np.random.random(size=(n,n))\n",
    "S = B @ B.T\n",
    "try:\n",
    "  A = np.linalg.cholesky(S)\n",
    "except Exception as error:\n",
    "    print(error)\n",
    "m = np.random.uniform(0, 10, n) #случайные матожидания\n",
    "z = m + np.random.normal(size=n) #добавка флуктцаций к ним\n",
    "print(\"x = \", m + A @ z)"
   ]
  },
  {
   "cell_type": "markdown",
   "id": "9da17273-da79-4e30-a0cf-274f1aec1ce0",
   "metadata": {},
   "source": [
    "### 2. Правдоподобие для гауссовой вероятностной модели.\n",
    "\n",
    "Пусть дана выборка точек на прямой $\\left\\{x_i\\right\\}$.\n",
    "\n",
    "Максимизируйте правдоподобие (или его логарифм) в гауссовой вероятностной модели:\n",
    "$$\n",
    "\\prod_i p\\left(x_i\\right) \\rightarrow \\max _{\\mu, \\sigma} \\quad p(x)=\\frac{1}{\\sqrt{2 \\pi \\sigma^2}} e^{-\\frac{(x-\\mu)^2}{2 \\sigma^2}} $$."
   ]
  },
  {
   "cell_type": "code",
   "execution_count": 10,
   "id": "a98b0bb5-e354-46f7-b671-99b3a7d21c11",
   "metadata": {},
   "outputs": [
    {
     "name": "stdout",
     "output_type": "stream",
     "text": [
      "Параметры выборки: mu =  3 sigma =  2\n",
      "Аппроксимация: mu =  3.003299175393134 sigma =  1.8840199404963578\n"
     ]
    }
   ],
   "source": [
    "import numpy as np\n",
    "from scipy.optimize import curve_fit\n",
    "from scipy. stats import norm\n",
    "\n",
    "mu = 3\n",
    "sigma = 2\n",
    "N = 100\n",
    "xs = np.random.normal(mu, sigma, size=N)\n",
    "\n",
    "mu_exp = xs.mean()\n",
    "sigma_exp = (xs.var()) ** (1/2)\n",
    "print(\"Параметры выборки: mu = \", mu, \"sigma = \", sigma)\n",
    "print(\"Аппроксимация: mu = \", mu_exp, \"sigma = \", sigma_exp)"
   ]
  },
  {
   "cell_type": "code",
   "execution_count": null,
   "id": "0a86c85a-9e44-4189-b28e-13a82dd3e25d",
   "metadata": {},
   "outputs": [],
   "source": []
  }
 ],
 "metadata": {
  "kernelspec": {
   "display_name": "Python 3 (ipykernel)",
   "language": "python",
   "name": "python3"
  },
  "language_info": {
   "codemirror_mode": {
    "name": "ipython",
    "version": 3
   },
   "file_extension": ".py",
   "mimetype": "text/x-python",
   "name": "python",
   "nbconvert_exporter": "python",
   "pygments_lexer": "ipython3",
   "version": "3.11.7"
  }
 },
 "nbformat": 4,
 "nbformat_minor": 5
}
